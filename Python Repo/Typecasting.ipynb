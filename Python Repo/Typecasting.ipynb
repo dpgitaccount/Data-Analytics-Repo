{
 "cells": [
  {
   "cell_type": "markdown",
   "id": "ae52fdd4-bb1b-4a63-a2d5-028a47ee6008",
   "metadata": {},
   "source": [
    "# Type Casting"
   ]
  },
  {
   "cell_type": "code",
   "execution_count": 19,
   "id": "ce3e7527-8cc5-431b-a1e2-35ae62147206",
   "metadata": {},
   "outputs": [
    {
     "name": "stdout",
     "output_type": "stream",
     "text": [
      "3\n",
      "3\n",
      "1\n",
      "23\n",
      "0\n",
      "---------\n",
      "3.0\n",
      "3.3\n",
      "1.0\n",
      "23.0\n",
      "---------\n",
      "3\n",
      "3.3\n",
      "True\n",
      "23\n",
      "---------\n",
      "True\n",
      "True\n",
      "True\n",
      "True\n",
      "False\n",
      "<class 'bool'>\n",
      "-----------\n",
      "3\n",
      "3.0\n",
      "True\n",
      "1.0\n"
     ]
    }
   ],
   "source": [
    "## INT\n",
    "print(int(3.24))\n",
    "print(int(3))\n",
    "print(int(True))\n",
    "print(int('23'))\n",
    "print(int(False))\n",
    "print(\"---------\")\n",
    "## Float\n",
    "print(float(3))\n",
    "print(float(3.3))\n",
    "print(float(True))\n",
    "print(float('23'))\n",
    "print(\"---------\")\n",
    "## Str\n",
    "print(str(3))\n",
    "print(str(3.3))\n",
    "print(str(True))\n",
    "print(str('23'))\n",
    "print(\"---------\")\n",
    "## bool\n",
    "print(bool(3))\n",
    "print(bool(3.3))\n",
    "print(bool(True))\n",
    "print(bool('prakash'))\n",
    "print(bool(0))\n",
    "print(type(bool(False)))\n",
    "print(\"-----------\")\n",
    "\n",
    "# string to float and to int\n",
    "print(int(float('3.14')))\n",
    "print(float(int(3.14)))\n",
    "\n",
    "print(bool(float(\"3.12344\")))\n",
    "print(float(bool(\"3.12344\")))"
   ]
  },
  {
   "cell_type": "code",
   "execution_count": null,
   "id": "0883e23f-b205-4337-973d-95a89ed885c6",
   "metadata": {},
   "outputs": [],
   "source": []
  }
 ],
 "metadata": {
  "kernelspec": {
   "display_name": "Python 3 (ipykernel)",
   "language": "python",
   "name": "python3"
  },
  "language_info": {
   "codemirror_mode": {
    "name": "ipython",
    "version": 3
   },
   "file_extension": ".py",
   "mimetype": "text/x-python",
   "name": "python",
   "nbconvert_exporter": "python",
   "pygments_lexer": "ipython3",
   "version": "3.10.7"
  }
 },
 "nbformat": 4,
 "nbformat_minor": 5
}
