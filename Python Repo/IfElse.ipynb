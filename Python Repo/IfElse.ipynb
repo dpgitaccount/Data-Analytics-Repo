{
 "cells": [
  {
   "cell_type": "markdown",
   "id": "14648780-9446-4173-acce-6638dcf15c7b",
   "metadata": {},
   "source": [
    "# IfElse Condition"
   ]
  },
  {
   "cell_type": "code",
   "execution_count": 7,
   "id": "0ac1369b-48f2-4671-a7bf-77a78a780dba",
   "metadata": {},
   "outputs": [
    {
     "name": "stdin",
     "output_type": "stream",
     "text": [
      "Enter the number : -5\n"
     ]
    },
    {
     "name": "stdout",
     "output_type": "stream",
     "text": [
      "-5 is -ve\n"
     ]
    }
   ],
   "source": [
    "## If condition\n",
    "n = int(input(\"Enter the number :\"))\n",
    "\n",
    "if n >= 0:\n",
    "    print(n,'is +ve')\n",
    "if n<= 0:\n",
    "    print(n,'is -ve')\n",
    "if n == 0:\n",
    "    print((n,'is a zero'))\n",
    "\n",
    "# print(n>0)\n",
    "# print(n, 'is +ve')\n",
    "# print('-------------')\n",
    "# print(n<0)\n",
    "# print(n,'is -ve')"
   ]
  },
  {
   "cell_type": "code",
   "execution_count": 10,
   "id": "0fb49b5b-6ea2-4c07-baa6-9025bea7fd5d",
   "metadata": {},
   "outputs": [
    {
     "name": "stdin",
     "output_type": "stream",
     "text": [
      "Enter the number : -9\n"
     ]
    },
    {
     "name": "stdout",
     "output_type": "stream",
     "text": [
      "-9 is -ve\n"
     ]
    }
   ],
   "source": [
    "## If Else and Elif Condition\n",
    "\n",
    "n = int(input(\"Enter the number :\"))\n",
    "\n",
    "if n == 0:\n",
    "    print((n,'is a zero'))\n",
    "elif n > 0:\n",
    "    print(n,'is +ve')\n",
    "else:\n",
    "    print(n,'is -ve')\n"
   ]
  },
  {
   "cell_type": "code",
   "execution_count": 26,
   "id": "35aa1cbb-227c-49ee-a085-b6d069575ed9",
   "metadata": {},
   "outputs": [
    {
     "name": "stdin",
     "output_type": "stream",
     "text": [
      "Enter the number :  12\n"
     ]
    },
    {
     "name": "stdout",
     "output_type": "stream",
     "text": [
      "nothing happening!\n"
     ]
    }
   ],
   "source": [
    "n = int(input(\"Enter the number : \"))\n",
    "if(n%5 == 0):\n",
    "    if(n%3 == 0):\n",
    "        print('its divisible by 5 and 3 both') \n",
    "    else:\n",
    "        print('its not divisible')\n",
    "else:\n",
    "    print('nothing happening!')\n"
   ]
  },
  {
   "cell_type": "code",
   "execution_count": 37,
   "id": "013d78b1-8f18-477c-8723-d09236b2df0a",
   "metadata": {},
   "outputs": [
    {
     "name": "stdin",
     "output_type": "stream",
     "text": [
      "Enter the number :  11\n"
     ]
    },
    {
     "name": "stdout",
     "output_type": "stream",
     "text": [
      "Not divisible\n"
     ]
    }
   ],
   "source": [
    "# Condition with operators-\n",
    "n = int(input(\"Enter the number : \"))\n",
    "\n",
    "# if((n%5 == 0) and (n%3 == 0)):\n",
    "#     print(\"Divisible\")\n",
    "    \n",
    "# else:\n",
    "#     print(\"Not divisible\")\n",
    "\n",
    "if((n%5 == 0) or (n%3 == 0)):\n",
    "    print(\"Divisible\")\n",
    "    \n",
    "else:\n",
    "    print(\"Not divisible\")\n"
   ]
  },
  {
   "cell_type": "code",
   "execution_count": 40,
   "id": "856fcb9e-953d-467c-a0f0-a3019356c88c",
   "metadata": {},
   "outputs": [
    {
     "name": "stdin",
     "output_type": "stream",
     "text": [
      "Enter the year : 2024\n"
     ]
    },
    {
     "name": "stdout",
     "output_type": "stream",
     "text": [
      "2024 is a leap year\n"
     ]
    }
   ],
   "source": [
    "## Problem Statement - Write a program that determines whether a year is a leap year or not. In the Gregorian calendar, a leap year occurs every four years to compensate for the fact that the Earth's orbit around the Sun takes approximately 365.25 days.\n",
    "## method - 1\n",
    "\n",
    "# year = int(input('Enter the year :'))\n",
    "# if (year % 4 == 0 and year % 100 != 0) or (year % 400 == 0):\n",
    "#     print(f\"{year} is a leap year\")\n",
    "# else:\n",
    "#     print(f\"{year} is not a leap year\")\n",
    "\n",
    "\n",
    "## method - 2\n",
    "year = int(input(\"Enter the year :\"))\n",
    "if (year % 4 == 0):\n",
    "    if (year % 100 != 0):\n",
    "        print(f\"{year} is a leap year\")\n",
    "    else:\n",
    "        if (year % 400 == 0):\n",
    "            print(f\"{year} is leap year\")\n",
    "        else:\n",
    "            print(f\"{year} is not a leap year\")\n",
    "else:\n",
    "    print(f\"{year} is not a leap year\")\n",
    " \n",
    "        \n"
   ]
  },
  {
   "cell_type": "code",
   "execution_count": null,
   "id": "61a819f3-b15b-41dc-ae99-9c3c3d234235",
   "metadata": {},
   "outputs": [],
   "source": []
  }
 ],
 "metadata": {
  "kernelspec": {
   "display_name": "Python 3 (ipykernel)",
   "language": "python",
   "name": "python3"
  },
  "language_info": {
   "codemirror_mode": {
    "name": "ipython",
    "version": 3
   },
   "file_extension": ".py",
   "mimetype": "text/x-python",
   "name": "python",
   "nbconvert_exporter": "python",
   "pygments_lexer": "ipython3",
   "version": "3.10.7"
  }
 },
 "nbformat": 4,
 "nbformat_minor": 5
}
