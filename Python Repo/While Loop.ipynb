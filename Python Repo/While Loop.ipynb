{
 "cells": [
  {
   "cell_type": "markdown",
   "id": "3f5ad2c7-e935-4dfd-8ef6-de61208546df",
   "metadata": {},
   "source": [
    "# While Loop"
   ]
  },
  {
   "cell_type": "code",
   "execution_count": 2,
   "id": "5cb18f23-42e3-42e0-8768-f8226136a287",
   "metadata": {},
   "outputs": [
    {
     "name": "stdout",
     "output_type": "stream",
     "text": [
      "2 4 "
     ]
    }
   ],
   "source": [
    "counter= 2\n",
    "while counter <= 5:\n",
    "    print(counter, end=' ')\n",
    "    counter += 2\n"
   ]
  },
  {
   "cell_type": "code",
   "execution_count": 3,
   "id": "fb0bef93-cca1-4781-8900-2f57ed7b1c01",
   "metadata": {},
   "outputs": [
    {
     "name": "stdout",
     "output_type": "stream",
     "text": [
      "(1, 1) (1, 2) (2, 1) (2, 2) (3, 1) (3, 2) "
     ]
    }
   ],
   "source": [
    "outer_counter = 1\n",
    "while outer_counter <= 3:\n",
    "    inner_counter = 1\n",
    "    while inner_counter <= 2:\n",
    "        print(f\"({outer_counter}, {inner_counter})\", end=' ')\n",
    "        inner_counter += 1\n",
    "    outer_counter += 1\n"
   ]
  },
  {
   "cell_type": "code",
   "execution_count": 10,
   "id": "3040abfd-ffcd-46e5-938b-b07e8dbc9d8d",
   "metadata": {},
   "outputs": [
    {
     "name": "stdout",
     "output_type": "stream",
     "text": [
      "1\n",
      "3\n",
      "6\n",
      "10\n",
      "15\n",
      "21\n",
      "28\n"
     ]
    }
   ],
   "source": [
    "n = 30\n",
    "i = 1\n",
    "s = 1\n",
    "\n",
    "while(n > s):\n",
    "\n",
    "    print(s)\n",
    "    i = i+1\n",
    "    s = s+i\n",
    " "
   ]
  },
  {
   "cell_type": "code",
   "execution_count": 4,
   "id": "d985c889-63ec-4117-9951-eb27cf811cb4",
   "metadata": {},
   "outputs": [
    {
     "name": "stdout",
     "output_type": "stream",
     "text": [
      "1 2 4 5 "
     ]
    }
   ],
   "source": [
    "## While With Continue\n",
    "counter = 1\n",
    "while counter <= 5:\n",
    "    if counter == 3:\n",
    "        counter += 1\n",
    "        continue\n",
    "    print(counter, end=' ')\n",
    "    counter += 1\n"
   ]
  },
  {
   "cell_type": "code",
   "execution_count": 5,
   "id": "18605b0b-a75c-4271-aa4b-63bb115c432f",
   "metadata": {},
   "outputs": [
    {
     "name": "stdout",
     "output_type": "stream",
     "text": [
      "1 2 3 4 5 "
     ]
    }
   ],
   "source": [
    "## While with break\n",
    "counter = 1\n",
    "while counter <= 10:\n",
    "    print(counter,end=' ')\n",
    "    if counter == 5:\n",
    "        break\n",
    "    counter += 1\n"
   ]
  },
  {
   "cell_type": "code",
   "execution_count": 7,
   "id": "c5a1a51e-75a8-4435-8fae-024d158eb817",
   "metadata": {},
   "outputs": [
    {
     "name": "stdin",
     "output_type": "stream",
     "text": [
      "Enter your age:  0\n"
     ]
    }
   ],
   "source": [
    "## User Input\n",
    "while True:\n",
    "    age = int(input(\"Enter your age: \"))\n",
    "    if age >= 0:\n",
    "        break\n",
    "    else:\n",
    "        print(\"Please enter a valid age.\")\n"
   ]
  },
  {
   "cell_type": "code",
   "execution_count": 8,
   "id": "531d7777-9cfa-4d19-839d-01b894ee663c",
   "metadata": {},
   "outputs": [
    {
     "name": "stdin",
     "output_type": "stream",
     "text": [
      "Continue playing? (yes/no):  yes\n",
      "Continue playing? (yes/no):  yes\n",
      "Continue playing? (yes/no):  yes\n",
      "Continue playing? (yes/no):  no\n"
     ]
    }
   ],
   "source": [
    "## Game Loop\n",
    "game_over = False\n",
    "while not game_over:\n",
    "    # Game logic here\n",
    "    user_input = input(\"Continue playing? (yes/no): \")\n",
    "    if user_input.lower() == \"no\":\n",
    "        game_over = True\n"
   ]
  },
  {
   "cell_type": "code",
   "execution_count": 11,
   "id": "c38724fc-4956-4504-b2f4-925e835ddd93",
   "metadata": {},
   "outputs": [
    {
     "name": "stdin",
     "output_type": "stream",
     "text": [
      "Enter a positive number (enter a non-positive number to stop):  2\n",
      "Enter a positive number (enter a non-positive number to stop):  -2\n"
     ]
    },
    {
     "name": "stdout",
     "output_type": "stream",
     "text": [
      "You entered the following positive numbers: [2.0]\n"
     ]
    }
   ],
   "source": [
    "## Problem Statement - Create a Python program that prompts the user to enter positive numbers continuously. \n",
    "## The program should use a while loop to collect input data until the user enters a non-positive number. \n",
    "## Implement simple data validation to ensure entered values are valid positive numbers. Finally, output the list of positive numbers entered by the user. \n",
    "##The objective is to create an interactive and error-tolerant program for collecting and handling user input.\n",
    "numbers = []\n",
    "\n",
    "while True:\n",
    "    user_input = input(\"Enter a positive number (enter a non-positive number to stop): \")\n",
    "\n",
    "    # Check if the input can be converted to a float and is non-negative\n",
    "    if user_input.replace('.', '', 1).isdigit() and float(user_input) > 0:\n",
    "        numbers.append(float(user_input))\n",
    "    elif user_input.replace('-', '', 1).isdigit() and float(user_input) <= 0:\n",
    "        break  # Exit the loop if a non-positive number is entered\n",
    "    else:\n",
    "        print(\"Invalid input. Please enter a valid positive number.\")\n",
    "\n",
    "# Data handling after the loop\n",
    "if numbers:\n",
    "    print(f\"You entered the following positive numbers: {numbers}\")\n",
    "else:\n",
    "    print(\"No positive numbers were entered.\")\n",
    "\n",
    "\n"
   ]
  },
  {
   "cell_type": "code",
   "execution_count": null,
   "id": "5384ab34-a9cc-4d84-a2ae-2f000ec96dcb",
   "metadata": {},
   "outputs": [],
   "source": []
  }
 ],
 "metadata": {
  "kernelspec": {
   "display_name": "Python 3 (ipykernel)",
   "language": "python",
   "name": "python3"
  },
  "language_info": {
   "codemirror_mode": {
    "name": "ipython",
    "version": 3
   },
   "file_extension": ".py",
   "mimetype": "text/x-python",
   "name": "python",
   "nbconvert_exporter": "python",
   "pygments_lexer": "ipython3",
   "version": "3.10.7"
  }
 },
 "nbformat": 4,
 "nbformat_minor": 5
}
