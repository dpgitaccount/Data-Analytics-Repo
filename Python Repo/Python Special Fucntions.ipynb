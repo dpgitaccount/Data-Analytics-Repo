{
 "cells": [
  {
   "cell_type": "markdown",
   "id": "6e7720ef-6cf9-46c3-a717-687453b89785",
   "metadata": {},
   "source": [
    "# Special Functions"
   ]
  },
  {
   "cell_type": "code",
   "execution_count": 10,
   "id": "2d3db0b6-7efd-4705-93c8-448bf2c28238",
   "metadata": {},
   "outputs": [
    {
     "name": "stdout",
     "output_type": "stream",
     "text": [
      "[('prakash', 25), ('Avinash', 37), ('Anjali', 19)]\n",
      "--------------------\n",
      "[[[1, 2, 3]], [[4, 5, 6]], [[7, 8, 9]]]\n",
      "[[1, 4, 7], [2, 5, 8], [3, 6, 9]]\n",
      "[[1, 2, 3], [4, 5, 6], [7, 8, 9]]\n",
      "--------------------\n",
      "[6, 20, 42]\n",
      "68\n",
      "--------------------\n"
     ]
    }
   ],
   "source": [
    "## Zip Function \n",
    "\n",
    "lst1 = [\"prakash\", \"Avinash\",\"Anjali\"]\n",
    "lst2 = [25,37,19]\n",
    "print(list(zip(lst1,lst2)))\n",
    "print('-'*20)\n",
    "\n",
    "\n",
    "## Matrix operation\n",
    "matrix = [[1,2,3],[4,5,6],[7,8,9]]\n",
    "print([list(row) for row in zip(matrix)])\n",
    "\n",
    "#Transpose of Matrix\n",
    "print([list(row) for row in zip(*matrix)])\n",
    "print([list(row) for row in zip(*[list(row) for row in zip(*matrix)])])\n",
    "print('-'*20)\n",
    "\n",
    "\n",
    "## using Dot Product on matrix\n",
    "lst_1 = [2,4,6]\n",
    "lst_2 = [3,5,7]\n",
    "\n",
    "print([i*j for i , j in zip(lst_1,lst_2)])\n",
    "print(sum([i*j for i , j in zip(lst_1,lst_2)]))\n",
    "print('-'*20)\n",
    "\n",
    "\n",
    "\n",
    "\n",
    "\n"
   ]
  },
  {
   "cell_type": "code",
   "execution_count": 14,
   "id": "13644977-4ddc-4f14-9abf-ab637ec86330",
   "metadata": {},
   "outputs": [
    {
     "name": "stdout",
     "output_type": "stream",
     "text": [
      "[2, 4, 6, 8]\n",
      "--------------------\n"
     ]
    }
   ],
   "source": [
    "## Filter Function \n",
    "\n",
    "lst = [1,2,3,4,5,6,7,8,9]\n",
    "def is_even(n):\n",
    "    return n%2 == 0\n",
    "print(list(filter(is_even,lst)))\n",
    "print('-'*20)\n",
    "\n",
    "\n",
    "##\n",
    "\n",
    "print('-'*20)\n"
   ]
  },
  {
   "cell_type": "code",
   "execution_count": 30,
   "id": "682a7fe0-c165-4322-8dc6-857d93f52cb5",
   "metadata": {},
   "outputs": [
    {
     "name": "stdout",
     "output_type": "stream",
     "text": [
      "8\n",
      "--------------------\n",
      "10 20 30 40 [2, 4, 6, 8]\n",
      "--------------------\n",
      "2\n"
     ]
    }
   ],
   "source": [
    "## Lambda Function - \n",
    "\n",
    "add_num = lambda x,y : x*y\n",
    "print(add_num(2,4))\n",
    "print('-'*20)\n",
    "\n",
    "## Lambda function with List Comprehension\n",
    "is_even_list = [lambda arg=x: arg * 10 for x in range(1, 5)]\n",
    "for item in is_even_list:\n",
    "\tprint(item(), end = ' ')\n",
    "\n",
    "## lambda with filter.\n",
    "num = [1,2,3,4,5,6,7,8,9]\n",
    "print(list(filter(lambda x: x%2 == 0, num)))\n",
    "print('-'*20)\n",
    "\n",
    "## Lambda function with conditional statements\n",
    "Max = lambda a, b : a if(a > b) else b\n",
    "print(Max(1, 2))\n",
    "print('-'*20)\n",
    "\n"
   ]
  },
  {
   "cell_type": "code",
   "execution_count": 31,
   "id": "3875f9d5-c2d3-4cd8-91ce-abcbc1bed50f",
   "metadata": {},
   "outputs": [
    {
     "name": "stdout",
     "output_type": "stream",
     "text": [
      "[1, 4, 9, 16, 25, 36, 49, 64, 81]\n",
      "--------------------\n",
      "[6, 5, 6, 5]\n",
      "--------------------\n",
      "[('GEEKS', 25), ('GEEKS', 30)]\n"
     ]
    }
   ],
   "source": [
    "## Map Function \n",
    "\n",
    "num = [1,2,3,4,5,6,7,8,9]\n",
    "def sqrt(x):\n",
    "    return x**2\n",
    "print(list(map(sqrt,num)))\n",
    "print('-'*20)\n",
    "\n",
    "## Map with lambda\n",
    "num = [1,2,3,4]\n",
    "name = ['anjali','bikky','chitra','divya']\n",
    "print(list(map(lambda x : len(x), name)))\n",
    "print('-'*20)\n",
    "\n",
    "\n",
    "## Combining all functions\n",
    "names = [\"Geeks\", \"For\", \"Geeks\"]\n",
    "scores = [25, 30, 22]\n",
    "\n",
    "filtered_names = list(filter(lambda x: len(x) > 4, names))\n",
    "uppercase_names = list(map(lambda x: x.upper(), filtered_names))\n",
    "\n",
    "zipped_data = list(zip(uppercase_names, scores))\n",
    "print(zipped_data)"
   ]
  },
  {
   "cell_type": "code",
   "execution_count": null,
   "id": "dba8a6cf-7231-40b6-a4bb-807388e65791",
   "metadata": {},
   "outputs": [],
   "source": []
  }
 ],
 "metadata": {
  "kernelspec": {
   "display_name": "Python 3 (ipykernel)",
   "language": "python",
   "name": "python3"
  },
  "language_info": {
   "codemirror_mode": {
    "name": "ipython",
    "version": 3
   },
   "file_extension": ".py",
   "mimetype": "text/x-python",
   "name": "python",
   "nbconvert_exporter": "python",
   "pygments_lexer": "ipython3",
   "version": "3.10.7"
  }
 },
 "nbformat": 4,
 "nbformat_minor": 5
}
