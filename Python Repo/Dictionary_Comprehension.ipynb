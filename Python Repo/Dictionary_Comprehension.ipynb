{
 "cells": [
  {
   "cell_type": "markdown",
   "id": "9c799d5b-4f10-4bb7-ab92-1bdff26b9f40",
   "metadata": {},
   "source": [
    "# Dictionary_Comprehension"
   ]
  },
  {
   "cell_type": "code",
   "execution_count": 28,
   "id": "c26ad3d7-5c75-49a8-906e-ed417a759780",
   "metadata": {},
   "outputs": [
    {
     "name": "stdout",
     "output_type": "stream",
     "text": [
      "{2: 4, 3: 9, 4: 16, 5: 25}\n",
      "{1: 1, 2: 8, 3: 27, 4: 64, 5: 125}\n",
      "----------------------------------------------------------------------\n",
      "{2: 4, 4: 16, 6: 36, 8: 64, 10: 100}\n",
      "----------------------------------------------------------------------\n",
      "['apple', 'banana', 'grapes']\n",
      "{'apple': 5, 'banana': 6, 'grapes': 6}\n",
      "----------------------------------------------------------------------\n",
      "{5: 'apple', 6: 'grapes'}\n",
      "----------------------------------------------------------------------\n",
      "{'num_1': 1, 'num_2': 2, 'num_3': 3, 'num_4': 4, 'num_5': 5, 'num_6': 6, 'num_7': 7, 'num_8': 8, 'num_9': 9, 'num_10': 10}\n",
      "----------------------------------------------------------------------\n",
      "{'num_3': 3, 'num_6': 6, 'num_9': 9}\n",
      "----------------------------------------------------------------------\n",
      "{(0, 0): 1, (0, 1): 2, (0, 2): 3, (1, 0): 4, (1, 1): 5, (1, 2): 6, (2, 0): 7, (2, 1): 8, (2, 2): 9}\n",
      "{1: (0, 0), 2: (0, 1), 3: (0, 2), 4: (1, 0), 5: (1, 1), 6: (1, 2), 7: (2, 0), 8: (2, 1), 9: (2, 2)}\n"
     ]
    }
   ],
   "source": [
    "dict ={i :i ** 2 for i in range(2,6)}\n",
    "print(dict)\n",
    "\n",
    "dict ={i : i **3 for i in range(1,6)}\n",
    "print(dict)\n",
    "print('-'*70)\n",
    "\n",
    "## using Condition \n",
    "dict = {i : i** 2 for i in range (1,11) if i%2 == 0}\n",
    "print(dict)\n",
    "print('-'*70)\n",
    "\n",
    "# dictionaries from list\n",
    "lst = ['apple', 'banana', 'grapes']\n",
    "dict = { item : len(item) for item in lst}\n",
    "print(lst)\n",
    "print(dict)\n",
    "print('-'*70)\n",
    "\n",
    "## Reverse \n",
    "dict = {len(item) : item for item in lst}\n",
    "print(dict)\n",
    "print('-'*70)\n",
    "\n",
    "\n",
    "## Special keys with strings\n",
    "dict = {'num_' + str(i) : i for i in range(1, 11) }\n",
    "print(dict)\n",
    "print('-'*70)\n",
    "\n",
    " ## Shortlisting based on the values\n",
    "dict = {k:v for k,v in dict.items()if v%3 == 0}\n",
    "print(dict)\n",
    "print('-'*70)\n",
    "\n",
    "## \n",
    "lst_1 = ['a', 'b', 'c', 'd']\n",
    "lst_2 = [1,2,3,4]\n",
    "{lst_2[i] : lst_1[i] for i in range(len(lst_1))}\n",
    "\n",
    "##\n",
    "matrix = [[1,2,3],[4,5,6],[7,8,9]]\n",
    "final_dict = {(i,j) : matrix[i] [j] for i in range(3) for j in range(3)}\n",
    "print(final_dict)\n",
    "\n",
    "## Reverse\n",
    "final_dict = {matrix[i] [j] : (i,j) for i in range(3) for j in range(3)}\n",
    "print(final_dict)\n"
   ]
  },
  {
   "cell_type": "code",
   "execution_count": null,
   "id": "19bf36c0-b182-46d7-8fc5-2ca580aab500",
   "metadata": {},
   "outputs": [],
   "source": []
  }
 ],
 "metadata": {
  "kernelspec": {
   "display_name": "Python 3 (ipykernel)",
   "language": "python",
   "name": "python3"
  },
  "language_info": {
   "codemirror_mode": {
    "name": "ipython",
    "version": 3
   },
   "file_extension": ".py",
   "mimetype": "text/x-python",
   "name": "python",
   "nbconvert_exporter": "python",
   "pygments_lexer": "ipython3",
   "version": "3.10.7"
  }
 },
 "nbformat": 4,
 "nbformat_minor": 5
}
