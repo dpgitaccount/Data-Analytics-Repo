{
 "cells": [
  {
   "cell_type": "markdown",
   "id": "6536fcdb-3b84-4c78-86b5-5db62a5972c1",
   "metadata": {},
   "source": [
    "# Module"
   ]
  },
  {
   "cell_type": "code",
   "execution_count": 6,
   "id": "9905e02e-7435-492c-a652-eef6479dd98d",
   "metadata": {},
   "outputs": [],
   "source": [
    "## Creating Main file for import Support file-\n",
    "from support import greet \n",
    "greet('Prakash')\n"
   ]
  },
  {
   "cell_type": "code",
   "execution_count": null,
   "id": "8e6c4795-acf2-4462-88cb-38efd9cfd082",
   "metadata": {},
   "outputs": [],
   "source": []
  }
 ],
 "metadata": {
  "kernelspec": {
   "display_name": "Python 3 (ipykernel)",
   "language": "python",
   "name": "python3"
  },
  "language_info": {
   "codemirror_mode": {
    "name": "ipython",
    "version": 3
   },
   "file_extension": ".py",
   "mimetype": "text/x-python",
   "name": "python",
   "nbconvert_exporter": "python",
   "pygments_lexer": "ipython3",
   "version": "3.10.7"
  }
 },
 "nbformat": 4,
 "nbformat_minor": 5
}
