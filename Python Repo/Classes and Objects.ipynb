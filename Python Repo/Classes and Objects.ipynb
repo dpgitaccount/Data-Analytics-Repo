{
 "cells": [
  {
   "cell_type": "markdown",
   "id": "2a4fe2a1-48a0-40b1-82ec-4d427e2d102c",
   "metadata": {},
   "source": [
    "# Class And Object"
   ]
  },
  {
   "cell_type": "code",
   "execution_count": 12,
   "id": "09c84547-e14c-432d-9605-0dc19d088cf3",
   "metadata": {},
   "outputs": [
    {
     "name": "stdout",
     "output_type": "stream",
     "text": [
      "hello\n",
      "prakash\n",
      "24\n",
      "--------------------\n",
      "divya\n",
      "23\n",
      "--------------------\n",
      "prakash\n",
      "24\n",
      "--------------------\n",
      "Hello\n",
      "prakash\n",
      "prakash\n"
     ]
    }
   ],
   "source": [
    "## Class\n",
    "\n",
    "class person:\n",
    "    name = \"prakash\"\n",
    "    age = 24\n",
    "    print('hello')\n",
    "p1 = person()\n",
    "print(p1.name)\n",
    "print(p1.age)\n",
    "print('-'*20)\n",
    "\n",
    "p1.name = \"divya\"\n",
    "p1.age = 23\n",
    "print(p1.name)\n",
    "print(p1.age)\n",
    "print('-'*20)\n",
    "\n",
    "p2 = person()\n",
    "print(p2.name)\n",
    "print(p2.age)\n",
    "print('-'*20)\n",
    "\n",
    "\n",
    "## Methods(Function)\n",
    "\n",
    "# Class\n",
    "class mathematics:\n",
    "    name = 'prakash'\n",
    "# Function\n",
    "    def greet(self):\n",
    "        print('Hello')\n",
    "        print(self.name) ## Inbuilt class value\n",
    "        \n",
    " # Creating Object      \n",
    "math = mathematics()\n",
    "\n",
    "# Function Calling\n",
    "math.greet()\n",
    "print(math.name)\n"
   ]
  },
  {
   "cell_type": "code",
   "execution_count": 17,
   "id": "f9b9acad-8d5e-4d5b-a087-b0850a31e9d5",
   "metadata": {},
   "outputs": [
    {
     "name": "stdout",
     "output_type": "stream",
     "text": [
      "Hello\n",
      "Hi\n",
      "------------------------------\n",
      "120\n",
      "------------------------------\n",
      "24\n",
      "------------------------------\n",
      "[2, 6, 12]\n",
      "------------------------------\n"
     ]
    }
   ],
   "source": [
    "class mathematics:\n",
    "\n",
    "    def greet(self):\n",
    "        print('Hello')\n",
    "        return 'Hi'\n",
    "    def factorial(self,n):\n",
    "        s = 1\n",
    "        for i in range(1, n+1):\n",
    "            s*=i\n",
    "        return s\n",
    "\n",
    "    def lst_mul(self,lst):\n",
    "        s = 1\n",
    "        for i in lst:\n",
    "            s*= i\n",
    "        return s\n",
    "    \n",
    "    def lst_dot(self, lst_1,lst_2):\n",
    "        return [lst_1[i] * lst_2[i] for i in range(len(lst_1))]\n",
    "        \n",
    "        \n",
    "\n",
    "    \n",
    "        \n",
    "\n",
    "\n",
    "math = mathematics()\n",
    "print(math.greet())\n",
    "print('-'*30)\n",
    "print(math.factorial(5))\n",
    "print('-'*30)\n",
    "print(math.lst_mul([2,3,4]))\n",
    "print('-'*30)\n",
    "print(math.lst_dot([1,2,3], [2,3,4]))\n",
    "print('-'*30)\n"
   ]
  },
  {
   "cell_type": "markdown",
   "id": "59bf5a83-4622-439d-b6b8-394202e123af",
   "metadata": {},
   "source": [
    "# Methods"
   ]
  },
  {
   "cell_type": "code",
   "execution_count": 41,
   "id": "39a66d42-d6a3-4fe4-bca6-01a51514e73d",
   "metadata": {},
   "outputs": [
    {
     "name": "stdout",
     "output_type": "stream",
     "text": [
      "------------------------------\n",
      "prakash\n",
      "run!\n",
      "ravi\n",
      "run!\n",
      "gaurav\n",
      "run!\n"
     ]
    }
   ],
   "source": [
    "Creating __init__ methods\n",
    "\n",
    "class person:\n",
    "\n",
    "    def __init__(self, name, age):\n",
    "        self.name = name \n",
    "        self.age = age\n",
    "        \n",
    "\n",
    "    def run(self):\n",
    "        print(self.name)\n",
    "        print('run!')\n",
    "        \n",
    "   \n",
    "p1 = person('prakash',24)\n",
    "p2 = person('ravi',23)\n",
    "p3 = person('gaurav', 27)\n",
    "# print(p3.__init__())\n",
    "p1.run()\n",
    "p2.run()\n",
    "p3.run()\n",
    "print('-'*30)\n",
    "\n"
   ]
  },
  {
   "cell_type": "code",
   "execution_count": 51,
   "id": "c4e861ee-a0e3-43d4-b82b-b982eabade93",
   "metadata": {},
   "outputs": [
    {
     "name": "stdout",
     "output_type": "stream",
     "text": [
      "\"welcome to the my game\"\n",
      "current health of prakash is 100\n",
      "name   :  prakash\n",
      "age    :  24\n",
      "health :  40\n",
      "alive  :  True\n",
      "------------------------------\n",
      "\"welcome to the my game\"\n",
      "current health of ravi is 100\n",
      "name   :  ravi\n",
      "age    :  24\n",
      "health :  -10\n",
      "alive  :  True\n"
     ]
    }
   ],
   "source": [
    "## different Methods \n",
    "\n",
    "class agent:\n",
    "    def __init__(self, name, age):\n",
    "        print('\"welcome to the my game\"')\n",
    "        self.name = name \n",
    "        self.age = age\n",
    "        self.health = 100\n",
    "        self.alive = True\n",
    "        \n",
    "\n",
    "    def curr_health(self):\n",
    "        print('current health of', self.name, 'is', self.health)\n",
    "        \n",
    "    def punched(self):\n",
    "        self.health -= 10\n",
    "        \n",
    "    def shooted(self):\n",
    "        self.health -= 50\n",
    "        \n",
    "    def is_alive(self):\n",
    "        if self.health <= 0:\n",
    "            self.alive = False\n",
    "            \n",
    "    def info(self):\n",
    "        print('name   : ', self.name)\n",
    "        print('age    : ', self.age)\n",
    "        print('health : ', self.health)\n",
    "        print('alive  : ', self.alive)\n",
    "\n",
    "\n",
    "\n",
    "   \n",
    "p1 = agent('prakash',24)\n",
    "p1.curr_health()\n",
    "p1.punched()\n",
    "p1.shooted()\n",
    "p1.info()\n",
    "\n",
    "print('-'*30)\n",
    "p2 = agent('ravi',24)\n",
    "p2.curr_health()\n",
    "p2.punched()\n",
    "p2.shooted()\n",
    "p2.shooted()\n",
    "p2.info()"
   ]
  },
  {
   "cell_type": "markdown",
   "id": "ee771522-f230-4b03-a481-b3cddd1999d5",
   "metadata": {},
   "source": [
    "# Inheritance"
   ]
  },
  {
   "cell_type": "code",
   "execution_count": 57,
   "id": "0dd8ae41-0cfb-4684-a812-818ab480512d",
   "metadata": {},
   "outputs": [
    {
     "name": "stdout",
     "output_type": "stream",
     "text": [
      "\"welcome to the my game\"\n",
      "name   :  Divya\n",
      "age    :  1000\n",
      "health :  100\n",
      "alive  :  True\n",
      "blow Fire!\n"
     ]
    }
   ],
   "source": [
    "class boss(agent): \n",
    "\n",
    "    def blow_fire(self):\n",
    "        print('blow Fire!')\n",
    "bs = boss('Divya', 1000)\n",
    "bs.info()\n",
    "bs.blow_fire()\n",
    "# print(bs)\n"
   ]
  },
  {
   "cell_type": "code",
   "execution_count": 21,
   "id": "be9fc23a-3e50-4968-b0fc-2778106fffc9",
   "metadata": {},
   "outputs": [
    {
     "name": "stdout",
     "output_type": "stream",
     "text": [
      "prakash\n",
      "24\n"
     ]
    }
   ],
   "source": [
    "## __init__() method\n",
    "\n",
    "class Student:\n",
    "    def __init__(self, name, age):\n",
    "        self.name = name\n",
    "        self.age = age\n",
    "cla = Student('prakash', 24)\n",
    "print(cla.name)\n",
    "print(cla.age)"
   ]
  },
  {
   "cell_type": "code",
   "execution_count": 22,
   "id": "7833fb31-f3db-4287-9180-224bc7dc763b",
   "metadata": {},
   "outputs": [
    {
     "name": "stdout",
     "output_type": "stream",
     "text": [
      "Rose\n"
     ]
    }
   ],
   "source": [
    "# Modify Object Properties\n",
    "# You can modify properties on objects like this:\n",
    "\n",
    "class Person:\n",
    "  name = \"Deepika\"\n",
    "  city = \"Mumbai\"\n",
    "\n",
    "p1=Person()\n",
    "p1.name = \"Rose\"\n",
    "print(p1.name)"
   ]
  },
  {
   "cell_type": "code",
   "execution_count": 23,
   "id": "99f63968-9f5e-46c7-9313-d3415f5ff1f3",
   "metadata": {},
   "outputs": [
    {
     "ename": "AttributeError",
     "evalue": "age",
     "output_type": "error",
     "traceback": [
      "\u001b[1;31m---------------------------------------------------------------------------\u001b[0m",
      "\u001b[1;31mAttributeError\u001b[0m                            Traceback (most recent call last)",
      "Cell \u001b[1;32mIn[23], line 12\u001b[0m\n\u001b[0;32m      9\u001b[0m   age \u001b[38;5;241m=\u001b[39m \u001b[38;5;241m20\u001b[39m\n\u001b[0;32m     11\u001b[0m p1\u001b[38;5;241m=\u001b[39mPerson()\n\u001b[1;32m---> 12\u001b[0m \u001b[38;5;28;01mdel\u001b[39;00m p1\u001b[38;5;241m.\u001b[39mage\n",
      "\u001b[1;31mAttributeError\u001b[0m: age"
     ]
    }
   ],
   "source": [
    "# Delete Object Properties\n",
    "# You can delete properties on objects by using the del keyword.\n",
    "\n",
    "# Delete the age property from the p1 object:\n",
    "\n",
    "class Person:\n",
    "  name = \"Deepika\"\n",
    "  city = \"Mumbai\"\n",
    "  age = 20\n",
    "\n",
    "p1=Person()\n",
    "del p1.age"
   ]
  },
  {
   "cell_type": "code",
   "execution_count": 24,
   "id": "7242da2c-74e7-4879-8d77-3af9ed6978a1",
   "metadata": {},
   "outputs": [
    {
     "ename": "NameError",
     "evalue": "name 'p1' is not defined",
     "output_type": "error",
     "traceback": [
      "\u001b[1;31m---------------------------------------------------------------------------\u001b[0m",
      "\u001b[1;31mNameError\u001b[0m                                 Traceback (most recent call last)",
      "Cell \u001b[1;32mIn[24], line 11\u001b[0m\n\u001b[0;32m      9\u001b[0m p1\u001b[38;5;241m=\u001b[39mPerson()\n\u001b[0;32m     10\u001b[0m \u001b[38;5;28;01mdel\u001b[39;00m p1\n\u001b[1;32m---> 11\u001b[0m \u001b[38;5;28mprint\u001b[39m(\u001b[43mp1\u001b[49m\u001b[38;5;241m.\u001b[39mname)\n",
      "\u001b[1;31mNameError\u001b[0m: name 'p1' is not defined"
     ]
    }
   ],
   "source": [
    "# Delete Objects\n",
    "# You can delete objects by using the del keyword.\n",
    "\n",
    "\n",
    "class Person:\n",
    "  name = \"Deepika\"\n",
    "  city = \"Mumbai\"\n",
    "\n",
    "p1=Person()\n",
    "del p1\n",
    "print(p1.name)"
   ]
  },
  {
   "cell_type": "code",
   "execution_count": 25,
   "id": "ebb01ada-1450-4703-af42-b658270e0f25",
   "metadata": {},
   "outputs": [],
   "source": [
    "# Encapsulation and Modularity\n",
    "\n",
    "class Student:\n",
    "    def __init__(self, name, age):\n",
    "        self.name = name\n",
    "        self.age = age\n",
    "        self.grades = []\n",
    "\n",
    "    def add_grade(self, grade):\n",
    "        self.grades.append(grade)\n",
    "\n",
    "    def average_grade(self):\n",
    "        return sum(self.grades) / len(self.grades)\n",
    "\n"
   ]
  },
  {
   "cell_type": "code",
   "execution_count": 26,
   "id": "2498e19e-a025-4e97-8449-f4619264ba52",
   "metadata": {},
   "outputs": [
    {
     "ename": "NameError",
     "evalue": "name 'Dog' is not defined",
     "output_type": "error",
     "traceback": [
      "\u001b[1;31m---------------------------------------------------------------------------\u001b[0m",
      "\u001b[1;31mNameError\u001b[0m                                 Traceback (most recent call last)",
      "Cell \u001b[1;32mIn[26], line 8\u001b[0m\n\u001b[0;32m      5\u001b[0m     animal\u001b[38;5;241m.\u001b[39mmake_sound()\n\u001b[0;32m      7\u001b[0m \u001b[38;5;66;03m# Usage\u001b[39;00m\n\u001b[1;32m----> 8\u001b[0m dog \u001b[38;5;241m=\u001b[39m \u001b[43mDog\u001b[49m(\u001b[38;5;124m\"\u001b[39m\u001b[38;5;124mWoof\u001b[39m\u001b[38;5;124m\"\u001b[39m)\n\u001b[0;32m      9\u001b[0m cat \u001b[38;5;241m=\u001b[39m Cat(\u001b[38;5;124m\"\u001b[39m\u001b[38;5;124mWhiskers\u001b[39m\u001b[38;5;124m\"\u001b[39m)\n\u001b[0;32m     11\u001b[0m describe(dog)  \u001b[38;5;66;03m# Output: Woof!\u001b[39;00m\n",
      "\u001b[1;31mNameError\u001b[0m: name 'Dog' is not defined"
     ]
    }
   ],
   "source": [
    "# Polymorphism: Adapting to Data Variability\n",
    "\n",
    "# Polymorphism in Action\n",
    "def describe(animal):\n",
    "    animal.make_sound()\n",
    "\n",
    "# Usage\n",
    "dog = Dog(\"Woof\")\n",
    "cat = Cat(\"Whiskers\")\n",
    "\n",
    "describe(dog)  # Output: Woof!\n",
    "describe(cat)  # Output: Meow!\n",
    "\n"
   ]
  },
  {
   "cell_type": "code",
   "execution_count": null,
   "id": "cd962cf6-1f8f-48eb-b0b4-683251699d62",
   "metadata": {},
   "outputs": [],
   "source": []
  }
 ],
 "metadata": {
  "kernelspec": {
   "display_name": "Python 3 (ipykernel)",
   "language": "python",
   "name": "python3"
  },
  "language_info": {
   "codemirror_mode": {
    "name": "ipython",
    "version": 3
   },
   "file_extension": ".py",
   "mimetype": "text/x-python",
   "name": "python",
   "nbconvert_exporter": "python",
   "pygments_lexer": "ipython3",
   "version": "3.10.7"
  }
 },
 "nbformat": 4,
 "nbformat_minor": 5
}
