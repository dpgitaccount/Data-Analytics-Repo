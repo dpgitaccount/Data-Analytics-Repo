{
 "cells": [
  {
   "cell_type": "code",
   "execution_count": 3,
   "id": "389679a0-b198-4941-8407-616e3a11d4b0",
   "metadata": {},
   "outputs": [
    {
     "name": "stdout",
     "output_type": "stream",
     "text": [
      "3\n"
     ]
    }
   ],
   "source": [
    "a = 1\n",
    "b = 2\n",
    "c = a+b\n",
    "print(c)"
   ]
  },
  {
   "cell_type": "code",
   "execution_count": 9,
   "id": "567807c4-6f17-446c-aeb8-3663f29c7838",
   "metadata": {},
   "outputs": [
    {
     "name": "stdout",
     "output_type": "stream",
     "text": [
      "12345\n",
      "-12345\n",
      "0\n",
      "<class 'int'>\n"
     ]
    }
   ],
   "source": [
    "# INT\n",
    "print(12345)\n",
    "print(-12345)\n",
    "print(0)\n",
    "print(type(0))\n"
   ]
  },
  {
   "cell_type": "code",
   "execution_count": 8,
   "id": "d38948a1-f425-44f1-9dc9-8feb3dd7186e",
   "metadata": {},
   "outputs": [
    {
     "name": "stdout",
     "output_type": "stream",
     "text": [
      "3.2323\n",
      "-2348.234\n",
      "0.0\n",
      "<class 'float'>\n"
     ]
    }
   ],
   "source": [
    "# Float\n",
    "print(3.2323)\n",
    "print(-2348.234)\n",
    "print(0.0000)\n",
    "print(type(0.00))"
   ]
  },
  {
   "cell_type": "code",
   "execution_count": 10,
   "id": "047456c3-2e27-4733-9c9c-63e8caa5d43f",
   "metadata": {},
   "outputs": [
    {
     "name": "stdout",
     "output_type": "stream",
     "text": [
      "my name is prakash\n",
      "my name is PRAKASH\n",
      "my name 56437 Prakash\n",
      "<class 'str'>\n",
      "-----------------------------------------\n"
     ]
    }
   ],
   "source": [
    "# String\n",
    "print('my name is prakash')\n",
    "print(\"my name is PRAKASH\")\n",
    "print(\"my name 56437 Prakash\")\n",
    "print(type('my name is prakash'))\n",
    "print('-----------------------------------------')"
   ]
  },
  {
   "cell_type": "code",
   "execution_count": 13,
   "id": "4ed84d4e-0240-428d-95f1-2d802217b54c",
   "metadata": {},
   "outputs": [
    {
     "name": "stdout",
     "output_type": "stream",
     "text": [
      "False\n",
      "True\n",
      "<class 'bool'>\n"
     ]
    }
   ],
   "source": [
    "# boolean\n",
    "a = 10\n",
    "b = 8.9\n",
    "c = a<b\n",
    "print(c)\n",
    "a = 10\n",
    "b = 8.9\n",
    "c = a>b\n",
    "print(c)\n",
    "print(type(c))"
   ]
  },
  {
   "cell_type": "code",
   "execution_count": 26,
   "id": "d556ab01-230c-4367-b0bb-1d8f3ffad44c",
   "metadata": {},
   "outputs": [
    {
     "name": "stdout",
     "output_type": "stream",
     "text": [
      "a b c\n",
      "------------------------------------\n",
      "a b c \n",
      "a-b-c\n",
      "a,b,c\n"
     ]
    }
   ],
   "source": [
    "# Functionalities in print statements\n",
    "print('a','b','c')\n",
    "print('------------------------------------')\n",
    "print('a', end = ' ')\n",
    "print('b', end = ' ')\n",
    "print('c', end = ' ')\n",
    "print()\n",
    "print('a', end = '-')\n",
    "print('b', end = '-')\n",
    "print('c', end = '')\n",
    "print()\n",
    "print('a','b','c', sep = ',') ## SEPARATORS"
   ]
  },
  {
   "cell_type": "code",
   "execution_count": null,
   "id": "ff1ca2ba-6caa-4721-81ad-a48ebb156b02",
   "metadata": {},
   "outputs": [],
   "source": []
  }
 ],
 "metadata": {
  "kernelspec": {
   "display_name": "Python 3 (ipykernel)",
   "language": "python",
   "name": "python3"
  },
  "language_info": {
   "codemirror_mode": {
    "name": "ipython",
    "version": 3
   },
   "file_extension": ".py",
   "mimetype": "text/x-python",
   "name": "python",
   "nbconvert_exporter": "python",
   "pygments_lexer": "ipython3",
   "version": "3.10.7"
  }
 },
 "nbformat": 4,
 "nbformat_minor": 5
}
