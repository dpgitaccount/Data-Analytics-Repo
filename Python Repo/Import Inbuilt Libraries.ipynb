{
 "cells": [
  {
   "cell_type": "markdown",
   "id": "445379ed-d05c-4ded-ae45-7e9337970dd4",
   "metadata": {},
   "source": [
    "# Import Inbuilt Lobraries"
   ]
  },
  {
   "cell_type": "code",
   "execution_count": 39,
   "id": "b2868575-5020-4d22-8c29-f11e67d78f19",
   "metadata": {},
   "outputs": [
    {
     "name": "stdout",
     "output_type": "stream",
     "text": [
      "11\n",
      "10\n",
      "10\n",
      "----------------------------------------\n",
      "20.085536923187668\n",
      "1.0986122886681098\n",
      "----------------------------------------\n",
      "0.8939966636005579\n",
      "-0.4480736161291701\n",
      "-1.995200412208242\n",
      "----------------------------------------\n",
      "3.141592653589793\n",
      "2.718281828459045\n",
      "----------------------------------------\n",
      "10 3628800\n",
      "----------------------------------------\n",
      "4.0\n",
      "----------------------------------------\n"
     ]
    }
   ],
   "source": [
    "## Math Functions\n",
    "import math\n",
    "x = 10.9\n",
    "print(math.ceil(x))\n",
    "print(math.floor(x))\n",
    "print(math.trunc(x))\n",
    "print('-'*40)\n",
    "\n",
    "## Logarithmic and exponential\n",
    "x = 3\n",
    "print(math.exp(x))\n",
    "print(math.log(x))\n",
    "print('-'*40)\n",
    "\n",
    "## Trigonometric\n",
    "x = 90\n",
    "print(math.sin(x))\n",
    "print(math.cos(x))\n",
    "print(math.tan(x))\n",
    "print('-'*40)\n",
    "\n",
    "## Constant\n",
    "print(math.pi)\n",
    "print(math.e)\n",
    "print('-'*40)\n",
    "\n",
    "## Factorial\n",
    "print(10, math.factorial(10))\n",
    "print('-'*40)\n",
    "\n",
    "## Sqare root\n",
    "import math\n",
    "result = math.sqrt(16)\n",
    "print(result)\n",
    "print('-'*40)\n",
    "\n",
    "## "
   ]
  },
  {
   "cell_type": "code",
   "execution_count": 40,
   "id": "10c6f8e7-4b41-43ef-911e-adf0d7a93757",
   "metadata": {},
   "outputs": [
    {
     "name": "stdout",
     "output_type": "stream",
     "text": [
      "0.4975365687586023\n",
      "----------------------------------------\n",
      "5\n",
      "----------------------------------------\n",
      "3\n",
      "----------------------------------------\n",
      "[6, 2]\n",
      "----------------------------------------\n",
      "2.385086260336169\n",
      "----------------------------------------\n",
      "None\n",
      "----------------------------------------\n",
      "[5, 1, 2, 3, 4]\n"
     ]
    }
   ],
   "source": [
    "## Random Fumction\n",
    "\n",
    "## random\n",
    "import random\n",
    "print(random.random())\n",
    "print('-'*40)\n",
    "\n",
    "## randint\n",
    "print(random.randint(1,11))\n",
    "print('-'*40)\n",
    "\n",
    "## choice\n",
    "print(random.choice([1,2,3,4,5]))\n",
    "print('-'*40)\n",
    "\n",
    "## sample\n",
    "print(random.sample([1,2,3,4,5,6],2))\n",
    "print('-'*40)\n",
    "\n",
    "## uniform\n",
    "print(random.uniform(1.0,3.0))\n",
    "print('-'*40)\n",
    "\n",
    "## seed\n",
    "print(random.seed(50))\n",
    "print('-'*40)\n",
    "\n",
    "## Shuffle\n",
    "import random\n",
    "my_list = [1, 2, 3, 4, 5]\n",
    "random.shuffle(my_list)\n",
    "print(my_list)\n",
    "\n"
   ]
  },
  {
   "cell_type": "code",
   "execution_count": 43,
   "id": "807239dc-0ee5-4f8a-96bf-23cd55e55708",
   "metadata": {},
   "outputs": [
    {
     "name": "stdout",
     "output_type": "stream",
     "text": [
      "2024-10-01 18:02:26.254848\n",
      "2023-10-28 10:30:00\n",
      "----------------------------------------\n",
      "2024-10-01\n",
      "----------------------------------------\n",
      "10/01/24  18:02:26\n",
      "----------------------------------------\n",
      "-340 days, 16:27:33.745152\n",
      "----------------------------------------\n",
      "2024-10-08 18:02:26.254848\n",
      "----------------------------------------\n"
     ]
    }
   ],
   "source": [
    "## Date Time Function\n",
    "import datetime\n",
    "\n",
    "# now\n",
    "print(datetime.datetime.now())\n",
    "print(datetime.datetime(2023,10,28,10,30,0))\n",
    "print('-'*40)\n",
    "\n",
    "# Date class\n",
    "from datetime import date\n",
    "current_date = date.today()\n",
    "print(current_date)\n",
    "print('-'*40)\n",
    "\n",
    "\n",
    "# strftime\n",
    "print(datetime.datetime.now().strftime(\"%m/%d/%y  %H:%M:%S\"))\n",
    "print('-'*40)\n",
    "\n",
    "# difference b/w datetime\n",
    "date1 = datetime.datetime(2023,10,28,10,30,0)\n",
    "date2 = datetime.datetime.now()\n",
    "print(date1 - date2)\n",
    "\n",
    "print('-'*40)\n",
    "\n",
    "\n",
    "# Time Delta\n",
    "\n",
    "from datetime import datetime, timedelta\n",
    "current_datetime=datetime.now()\n",
    "future_date = current_datetime + timedelta(days=7)\n",
    "print(future_date)\n",
    "print('-'*40)\n"
   ]
  },
  {
   "cell_type": "code",
   "execution_count": 50,
   "id": "61b68550-615b-41ee-98c6-780cabbb4448",
   "metadata": {},
   "outputs": [
    {
     "name": "stdout",
     "output_type": "stream",
     "text": [
      "Counter({1: 1, 2: 1, 3: 1, 4: 1, 5: 1, 6: 1, 7: 1, 8: 1})\n",
      "----------------------------------------\n",
      "defaultdict(<class 'int'>, {'a': 1})\n",
      "OrderedDict([('one', 1), ('two', 2)])\n",
      "----------------------------------------\n"
     ]
    }
   ],
   "source": [
    "## Collection\n",
    "\n",
    "from collections import Counter, defaultdict, OrderedDict\n",
    "lst = [1,2,3,4,5,6,7,8]\n",
    "print(Counter(lst))\n",
    "print('-'*40)\n",
    "\n",
    "## Default dictionary\n",
    "d = defaultdict(int)\n",
    "d['a'] += 1\n",
    "print(d)\n",
    "\n",
    "## orderd dictionary\n",
    "d = OrderedDict()\n",
    "d['one'] = 1\n",
    "d['two'] = 2\n",
    "print(d)\n",
    "print('-'*40)\n"
   ]
  },
  {
   "cell_type": "code",
   "execution_count": 57,
   "id": "ccd0bab2-8b72-47b8-8c78-dbe86ecd188f",
   "metadata": {},
   "outputs": [
    {
     "name": "stdout",
     "output_type": "stream",
     "text": [
      "abcdefghijklmnopqrstuvwxyzABCDEFGHIJKLMNOPQRSTUVWXYZ\n",
      "abcdefghijklmnopqrstuvwxyz\n",
      "ABCDEFGHIJKLMNOPQRSTUVWXYZ\n",
      "----------------------------------------\n",
      "0123456789\n",
      "0123456789abcdefABCDEF\n",
      "01234567\n",
      "----------------------------------------\n",
      "!\"#$%&'()*+,-./:;<=>?@[\\]^_`{|}~\n"
     ]
    }
   ],
   "source": [
    "## String\n",
    "import string\n",
    "## Ascii\n",
    "print(string.ascii_letters)\n",
    "print(string.ascii_lowercase)\n",
    "print(string.ascii_uppercase)\n",
    "\n",
    "print('-'*40)\n",
    "\n",
    "# Digits\n",
    "print(string.digits)\n",
    "print(string.hexdigits)\n",
    "print(string.octdigits)\n",
    "print('-'*40)\n",
    "\n",
    "## punctuation marks\n",
    "print(string.punctuation)\n",
    "\n"
   ]
  },
  {
   "cell_type": "code",
   "execution_count": 44,
   "id": "94bbb1e1-5bb0-4143-8107-30684cd7af44",
   "metadata": {},
   "outputs": [
    {
     "name": "stdout",
     "output_type": "stream",
     "text": [
      "Remaining time until the event: -275 days, 0 hours, 26 minutes.\n",
      "Percentage completion of the event: 35773%\n"
     ]
    }
   ],
   "source": [
    "## Problem Statement - Write a Python program that calculates the remaining days, hours, and minutes until the event. Additionally, provide the percentage completion of the event based on the current time compared to the event's start time.\n",
    "from datetime import datetime, timedelta\n",
    "import math\n",
    "\n",
    "event_date = datetime(2023, 12, 31, 18, 30)  # December 31, 2023, 6:30 PM\n",
    "\n",
    "current_datetime = datetime.now()\n",
    "\n",
    "time_difference = event_date - current_datetime\n",
    "remaining_days = time_difference.days\n",
    "remaining_hours, remaining_seconds = divmod(time_difference.seconds, 3600)\n",
    "remaining_minutes = remaining_seconds // 60\n",
    "\n",
    "# Calculate percentage completion\n",
    "total_seconds_in_event = (event_date - event_date.replace(hour=0, minute=0, second=0, microsecond=0)).total_seconds()\n",
    "elapsed_seconds = (current_datetime - event_date.replace(hour=0, minute=0, second=0, microsecond=0)).total_seconds()\n",
    "percentage_completion = (elapsed_seconds / total_seconds_in_event) * 100\n",
    "\n",
    "\n",
    "print(f\"Remaining time until the event: {remaining_days} days, {remaining_hours} hours, {remaining_minutes} minutes.\")\n",
    "print(f\"Percentage completion of the event: {math.floor(percentage_completion)}%\")\n",
    "\n"
   ]
  },
  {
   "cell_type": "code",
   "execution_count": null,
   "id": "9713e9db-b5a0-42e2-b623-3033c35b9ecb",
   "metadata": {},
   "outputs": [],
   "source": []
  }
 ],
 "metadata": {
  "kernelspec": {
   "display_name": "Python 3 (ipykernel)",
   "language": "python",
   "name": "python3"
  },
  "language_info": {
   "codemirror_mode": {
    "name": "ipython",
    "version": 3
   },
   "file_extension": ".py",
   "mimetype": "text/x-python",
   "name": "python",
   "nbconvert_exporter": "python",
   "pygments_lexer": "ipython3",
   "version": "3.10.7"
  }
 },
 "nbformat": 4,
 "nbformat_minor": 5
}
