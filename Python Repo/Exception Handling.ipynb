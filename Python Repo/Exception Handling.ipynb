{
 "cells": [
  {
   "cell_type": "markdown",
   "id": "04a40a3d-d6b1-4310-8a1b-a3cf4b4d996c",
   "metadata": {},
   "source": [
    "# Exception Handling"
   ]
  },
  {
   "cell_type": "code",
   "execution_count": 20,
   "id": "51695cba-206b-40d9-8ce0-8c7406205a1f",
   "metadata": {},
   "outputs": [
    {
     "name": "stdout",
     "output_type": "stream",
     "text": [
      "1\n",
      "Error occured\n",
      "--------------------\n",
      "Unknown Error\n",
      "--------------------\n",
      "the value can not be converted to Int type\n"
     ]
    }
   ],
   "source": [
    "## try and except\n",
    "try:\n",
    "    x = 10\n",
    "    print(1)\n",
    "    print(x/0)\n",
    "    print(2)\n",
    "    \n",
    "except:\n",
    "    print('Error occured')\n",
    "print('-'*20)\n",
    "\n",
    "## Exception with specific errors\n",
    "try:\n",
    "    num = 0\n",
    "    #print(num/0)\n",
    "    print('er'/1)\n",
    "    \n",
    "except ZeroDivisionError:\n",
    "    print('Zero is in the divisor')\n",
    "    \n",
    "except:\n",
    "    print('Unknown Error')\n",
    "print('-'*20)\n",
    "\n",
    "\n",
    "## Cathing Specific Exception\n",
    "a = [2,3,'abc', 5, 'geek']\n",
    "try:\n",
    "  a[2] = int(a[2])\n",
    "  a[3] = a[3]/a[1]\n",
    "    \n",
    "except IndexError:\n",
    "  print(\"Index out of bound\")\n",
    "    \n",
    "except ValueError:\n",
    "  print(\"the value can not be converted to Int type\")\n",
    "    \n",
    "except DivideByZero:\n",
    "  print(\"Can not divide by zero\")\n"
   ]
  },
  {
   "cell_type": "code",
   "execution_count": 21,
   "id": "09fc7829-2644-4303-ac4d-d8951617b82e",
   "metadata": {},
   "outputs": [
    {
     "name": "stdout",
     "output_type": "stream",
     "text": [
      "the value of c is 4\n"
     ]
    }
   ],
   "source": [
    "## try,except and else\n",
    "a = [2, 7, 4, 3]\n",
    "try: \n",
    "  c = a[2]//(4-a[3])\n",
    "    \n",
    "except:\n",
    "  print(\"Cannot divide by zero\")\n",
    "    \n",
    "else :\n",
    "  print(\"the value of c is\" , c)\n",
    "  \n"
   ]
  },
  {
   "cell_type": "code",
   "execution_count": 22,
   "id": "71cfff15-be6b-4ab6-9c53-8a88b83dab6c",
   "metadata": {},
   "outputs": [
    {
     "name": "stdout",
     "output_type": "stream",
     "text": [
      "2.0\n",
      "Program End!\n"
     ]
    }
   ],
   "source": [
    "## try,except and finally\n",
    "try:\n",
    "    num1, num2 = 10,5\n",
    "    print(num1/num2)\n",
    "    \n",
    "except ZeroDivisionError as zde:\n",
    "    print(zde)\n",
    "    \n",
    "finally:\n",
    "    print('Program End!')"
   ]
  },
  {
   "cell_type": "code",
   "execution_count": 19,
   "id": "26d68aab-2ede-464d-895d-3ba5f77ce28d",
   "metadata": {},
   "outputs": [
    {
     "name": "stdout",
     "output_type": "stream",
     "text": [
      "2.0\n",
      "Everything is Fine!\n",
      "Program End!\n"
     ]
    }
   ],
   "source": [
    "## try,except,else and finally\n",
    "\n",
    "try:\n",
    "    num1, num2 = 10,5\n",
    "    #print(int('3.14'))\n",
    "    #print(num1/0)\n",
    "    print(num1/num2)\n",
    "    \n",
    "except ZeroDivisionError as zde:\n",
    "    print(zde)\n",
    "    \n",
    "except Exception as e:\n",
    "    print(e)\n",
    "    \n",
    "else:\n",
    "    print('Everything is Fine!')\n",
    "    \n",
    "finally:\n",
    "    print('Program End!')"
   ]
  },
  {
   "cell_type": "code",
   "execution_count": 23,
   "id": "0c3f99e9-a250-496d-be50-077f005de8f6",
   "metadata": {},
   "outputs": [
    {
     "name": "stdout",
     "output_type": "stream",
     "text": [
      "Result: 5.0\n"
     ]
    }
   ],
   "source": [
    "## Raise Statements\n",
    "\n",
    "def divide_numbers(a, b):\n",
    "    try:\n",
    "        if b == 0:\n",
    "            \n",
    "            raise ZeroDivisionError(\"Cannot divide by zero.\")\n",
    "        result = a / b\n",
    "        return result\n",
    "        \n",
    "    except Exception as e:\n",
    "        print(f\"An error occurred: {e}\")\n",
    "        \n",
    "        # You can choose to re-raise the caught exception or raise a different one.\n",
    "        raise ValueError(\"Custom error message\") from e\n",
    "\n",
    "# Example usage:\n",
    "try:\n",
    "    result = divide_numbers(10, 2)\n",
    "    print(f\"Result: {result}\")\n",
    "    \n",
    "except ValueError as ve:\n",
    "    print(f\"Caught a ValueError: {ve}\")\n",
    "    \n",
    "except ZeroDivisionError as zde:\n",
    "    print(f\"Caught a ZeroDivisionError: {zde}\")\n"
   ]
  },
  {
   "cell_type": "code",
   "execution_count": 25,
   "id": "90e8cbcf-3f29-4a54-bd78-866f72dff13c",
   "metadata": {},
   "outputs": [],
   "source": [
    "## Assertion \n",
    "\n",
    "x = 5\n",
    "assert x > 0, \"x should be greater than 0\"\n",
    "\n",
    "name = \"John\"\n",
    "assert len(name) >= 3, \"Name should be at least 3 characters long\"\n",
    "\n",
    "## No Output is given"
   ]
  },
  {
   "cell_type": "code",
   "execution_count": null,
   "id": "aa2533d1-99fb-4e39-ba6c-f0ee97b68c53",
   "metadata": {},
   "outputs": [],
   "source": []
  }
 ],
 "metadata": {
  "kernelspec": {
   "display_name": "Python 3 (ipykernel)",
   "language": "python",
   "name": "python3"
  },
  "language_info": {
   "codemirror_mode": {
    "name": "ipython",
    "version": 3
   },
   "file_extension": ".py",
   "mimetype": "text/x-python",
   "name": "python",
   "nbconvert_exporter": "python",
   "pygments_lexer": "ipython3",
   "version": "3.10.7"
  }
 },
 "nbformat": 4,
 "nbformat_minor": 5
}
