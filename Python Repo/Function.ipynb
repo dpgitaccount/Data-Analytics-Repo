{
 "cells": [
  {
   "cell_type": "markdown",
   "id": "1b17418c-e933-4a48-b22a-ad5682ee175f",
   "metadata": {},
   "source": [
    "# Function "
   ]
  },
  {
   "cell_type": "code",
   "execution_count": 8,
   "id": "4b3d78a2-90b5-4290-af2c-1b58fd8fd9da",
   "metadata": {},
   "outputs": [
    {
     "name": "stdout",
     "output_type": "stream",
     "text": [
      "hello\n",
      "hello\n",
      "hello\n",
      "hello\n",
      "hello\n",
      "hello\n",
      "hello\n",
      "hello\n",
      "hello\n",
      "hello\n",
      "hello\n",
      "------------------------------\n"
     ]
    }
   ],
   "source": [
    "# Creting Function\n",
    "def greet():\n",
    "    print(\"hello\")\n",
    "greet()\n",
    "for i in range(10):\n",
    "    greet()\n",
    "print('-'*30)\n",
    "\n",
    "\n"
   ]
  },
  {
   "cell_type": "code",
   "execution_count": 12,
   "id": "aee9dcf9-2ed9-4652-825f-522536884644",
   "metadata": {},
   "outputs": [
    {
     "name": "stdout",
     "output_type": "stream",
     "text": [
      "10 5\n"
     ]
    },
    {
     "ename": "NameError",
     "evalue": "name 'local_var' is not defined",
     "output_type": "error",
     "traceback": [
      "\u001b[1;31m---------------------------------------------------------------------------\u001b[0m",
      "\u001b[1;31mNameError\u001b[0m                                 Traceback (most recent call last)",
      "Cell \u001b[1;32mIn[12], line 8\u001b[0m\n\u001b[0;32m      5\u001b[0m     \u001b[38;5;28mprint\u001b[39m(global_var, local_var)\n\u001b[0;32m      7\u001b[0m scope()\n\u001b[1;32m----> 8\u001b[0m \u001b[38;5;28mprint\u001b[39m(global_var, \u001b[43mlocal_var\u001b[49m)\n",
      "\u001b[1;31mNameError\u001b[0m: name 'local_var' is not defined"
     ]
    }
   ],
   "source": [
    "## Global variable and Local Variable\n",
    "global_var = 10\n",
    "def scope():\n",
    "    local_var = 5\n",
    "    print(global_var, local_var)\n",
    "    \n",
    "scope()\n",
    "print(global_var, local_var) # it returns not defined coz locaal_var is not work in global variable\n",
    "\n"
   ]
  },
  {
   "cell_type": "code",
   "execution_count": 18,
   "id": "89e4a4ac-6c63-46f6-a84f-d508091c432a",
   "metadata": {},
   "outputs": [
    {
     "name": "stdout",
     "output_type": "stream",
     "text": [
      "hello prakash\n",
      "hello Divya\n",
      "hello ------\n",
      "------------------------------\n"
     ]
    }
   ],
   "source": [
    "## Passing the parameters\n",
    "\n",
    "def greet(name = '------'):\n",
    "    print(\"hello\", name)\n",
    "greet(\"prakash\")\n",
    "greet(name = \"Divya\")\n",
    "greet()\n",
    "print('-'*30)\n",
    "\n",
    "\n"
   ]
  },
  {
   "cell_type": "code",
   "execution_count": 26,
   "id": "1639be52-e484-47b9-8dfb-b50ca6ca035a",
   "metadata": {},
   "outputs": [
    {
     "name": "stdout",
     "output_type": "stream",
     "text": [
      "5 10 15\n",
      "5 10 15\n",
      "5 10 15\n",
      "0 0 0\n",
      "5 0 5\n",
      "0 10 10\n"
     ]
    }
   ],
   "source": [
    "## passing parameter with print\n",
    "def subm(a = 0, b = 0):\n",
    "    print(a,b, a+b)\n",
    "subm(5,10)\n",
    "subm(5, b = 10)\n",
    "subm(a = 5,b = 10)\n",
    "subm()\n",
    "subm(a = 5)\n",
    "subm(b = 10)"
   ]
  },
  {
   "cell_type": "code",
   "execution_count": 34,
   "id": "431a2f7c-87b6-422f-a06f-e7fe3ecb8063",
   "metadata": {},
   "outputs": [
    {
     "name": "stdout",
     "output_type": "stream",
     "text": [
      "15\n",
      "------------------------------\n",
      "(15, -5, 50, 0.5)\n",
      "<class 'tuple'>\n",
      "------------------------------\n",
      "15 -5 50 0.5\n"
     ]
    }
   ],
   "source": [
    "## Save function result using return method\n",
    "def subm(a = 0, b = 0):\n",
    "    return a+b\n",
    "result = subm(5,10)\n",
    "print(result)\n",
    "\n",
    "print('-'*30)\n",
    "\n",
    "## multiple return \n",
    "def subm(a = 0, b = 0):\n",
    "    return a+b, a-b, a*b, a/b\n",
    "result = subm(5,10)\n",
    "print(result)\n",
    "print(type(result))\n",
    "\n",
    "print('-'*30)\n",
    "\n",
    "## Return value without tuple format\n",
    "def subm(a = 0, b = 0):\n",
    "    return a+b, a-b, a*b, a/b\n",
    "add,subs,mult,div = subm(5,10)\n",
    "print(add,subs,mult,div)\n"
   ]
  },
  {
   "cell_type": "code",
   "execution_count": 45,
   "id": "11267ecd-f6b7-4325-9037-639724008355",
   "metadata": {},
   "outputs": [
    {
     "name": "stdout",
     "output_type": "stream",
     "text": [
      "[2, 12, 36, 80, 150]\n"
     ]
    }
   ],
   "source": [
    "## Multi level Function\n",
    "lst = [1,2,3,4,5]\n",
    "def sqr(lst):\n",
    "    return [i**2 for i in lst]\n",
    "def cube(lst):\n",
    "    return [i**3 for i in lst]\n",
    "\n",
    "def final(lst):\n",
    "    lst_1 = sqr(lst)\n",
    "    lst_2 = cube(lst)\n",
    "\n",
    "    return [lst_1[i] + lst_2[i] for i in range(len(lst_1))] \n",
    "\n",
    "print(final(lst))\n"
   ]
  },
  {
   "cell_type": "code",
   "execution_count": 36,
   "id": "3b41c1be-5845-40b2-ad74-ff01449e31f8",
   "metadata": {},
   "outputs": [
    {
     "name": "stdout",
     "output_type": "stream",
     "text": [
      "Hello, Geeks!\n"
     ]
    }
   ],
   "source": [
    "## 1. Default Arguments\n",
    "# Functions can have default parameter values. If a value for a parameter is not provided during the function call, the default value is used.\n",
    "\n",
    "def greet(name, greeting=\"Hello\"):\n",
    "    message = f\"{greeting}, {name}!\"\n",
    "    return message\n",
    "print(greet(\"Geeks\"))"
   ]
  },
  {
   "cell_type": "code",
   "execution_count": 37,
   "id": "c455e9d7-3d7d-4b32-bf7c-e31451edc67e",
   "metadata": {},
   "outputs": [
    {
     "name": "stdout",
     "output_type": "stream",
     "text": [
      "Python Programmer\n",
      "Python Programmer\n"
     ]
    }
   ],
   "source": [
    "# 2. Keyword Arguments\n",
    "# Passing keyword arguments allow the caller to specify the argument name with values so that the caller does not need to remember the order of parameters.\n",
    "\n",
    "def student(firstname, lastname):\n",
    "\tprint(firstname, lastname)\n",
    "\n",
    "# Keyword arguments\n",
    "student(firstname='Python', lastname='Programmer')\n",
    "student(lastname='Programmer', firstname='Python')"
   ]
  },
  {
   "cell_type": "code",
   "execution_count": 38,
   "id": "1771b913-442f-4de6-8f1b-4f99dbccd174",
   "metadata": {},
   "outputs": [
    {
     "name": "stdout",
     "output_type": "stream",
     "text": [
      "Positional arguments: (1, 2, 3)\n",
      "Keyword arguments: {'name': 'Rose', 'age': 24}\n"
     ]
    }
   ],
   "source": [
    "# 3. Variable-length Arguments\n",
    "# Python supports variable-length arguments through *args and **kwargs. This allows a function to accept a flexible number of arguments.\n",
    "\n",
    "def print_values(*args, **kwargs):\n",
    "    print(\"Positional arguments:\", args)\n",
    "    print(\"Keyword arguments:\", kwargs)\n",
    "\n",
    "print_values(1, 2, 3, name=\"Rose\", age=24)"
   ]
  },
  {
   "cell_type": "code",
   "execution_count": 40,
   "id": "6763fce5-55e0-4dbe-b79d-9346124f8000",
   "metadata": {},
   "outputs": [
    {
     "name": "stdout",
     "output_type": "stream",
     "text": [
      "('Data Analytics with Python', 3.0)\n"
     ]
    }
   ],
   "source": [
    "# 4. Nested Function \n",
    "\n",
    "def func_1(x):\n",
    "    S = \"Data Analytics with Python\"\n",
    "    def func_2():\n",
    "        return (S,x)\n",
    "    return func_2()\n",
    "\n",
    "# Create a closure\n",
    "closure = func_1(3.0)\n",
    "\n",
    "print(closure)\n"
   ]
  },
  {
   "cell_type": "code",
   "execution_count": 41,
   "id": "b1ee5b17-b693-4115-bd2d-7d1b51be1951",
   "metadata": {},
   "outputs": [
    {
     "name": "stdout",
     "output_type": "stream",
     "text": [
      "120\n"
     ]
    }
   ],
   "source": [
    "# Recursive Function\n",
    "\n",
    "def factorial(n):\n",
    "    if n == 0 or n == 1:\n",
    "        return 1\n",
    "    else:\n",
    "        return n * factorial(n-1)\n",
    "\n",
    "result = factorial(5)\n",
    "print(result) \n"
   ]
  },
  {
   "cell_type": "code",
   "execution_count": 42,
   "id": "53bc1ec0-acf3-4865-bd4c-847c2d5bbc5d",
   "metadata": {},
   "outputs": [
    {
     "name": "stdout",
     "output_type": "stream",
     "text": [
      "125\n"
     ]
    }
   ],
   "source": [
    "# Problem Statement - Calculating the nth term of the Ackermann function.\n",
    "# The Ackermann function is a recursive mathematical function that is exceptionally fast-growing. It is often used to demonstrate the difference in growth rates between simple recursive algorithms and more efficient ones.\n",
    "\n",
    "# If m = 0, the result is n + 1.\n",
    "\n",
    "# If m > 0 and n = 0, the result is ackermann(m-1, 1).\n",
    "\n",
    "# If m > 0 and n > 0, the result is ackermann(m-1, ackermann(m, n-1)).\n",
    "\n",
    "def ackermann(m, n):\n",
    "    if m == 0:\n",
    "        return n + 1\n",
    "    elif m > 0 and n == 0:\n",
    "        return ackermann(m-1, 1)\n",
    "    elif m > 0 and n > 0:\n",
    "        return ackermann(m-1, ackermann(m, n-1))\n",
    "\n",
    "result = ackermann(3, 4)\n",
    "print(result)  \n"
   ]
  },
  {
   "cell_type": "code",
   "execution_count": null,
   "id": "5e8e3423-2b11-4166-be24-f82c4028d59c",
   "metadata": {},
   "outputs": [],
   "source": []
  }
 ],
 "metadata": {
  "kernelspec": {
   "display_name": "Python 3 (ipykernel)",
   "language": "python",
   "name": "python3"
  },
  "language_info": {
   "codemirror_mode": {
    "name": "ipython",
    "version": 3
   },
   "file_extension": ".py",
   "mimetype": "text/x-python",
   "name": "python",
   "nbconvert_exporter": "python",
   "pygments_lexer": "ipython3",
   "version": "3.10.7"
  }
 },
 "nbformat": 4,
 "nbformat_minor": 5
}
