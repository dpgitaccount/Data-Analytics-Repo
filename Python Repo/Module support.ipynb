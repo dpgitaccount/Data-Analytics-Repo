{
 "cells": [
  {
   "cell_type": "markdown",
   "id": "19a679ae-a64e-407d-a09a-76820a2a764b",
   "metadata": {},
   "source": [
    "# Module"
   ]
  },
  {
   "cell_type": "code",
   "execution_count": 1,
   "id": "73c53087-1fc1-4005-a514-ed3291976443",
   "metadata": {},
   "outputs": [],
   "source": [
    "## Creating Support file for module importing and calling\n",
    "\n",
    "def greet(name = '----------'):\n",
    "    print('Hello', name)\n",
    "\n",
    "def subm(a = 0, b = 0):\n",
    "    return a+b\n",
    "\n",
    "def arithematic(a = 0, b = 0):\n",
    "    return a+b, a-b, a*b\n",
    "\n",
    "def sqrt(lst):\n",
    "    return [i**2 for i in lst]\n",
    "def cube(lst):\n",
    "    return [i**3 for i in lst]\n",
    "\n",
    "def final(lst):\n",
    "    lst_1 = sqrt(lst)\n",
    "    lst_2 = cube(lst)\n",
    "    return [lst_1[i] + lst_2[i] for i in range(len(lst_1))]"
   ]
  },
  {
   "cell_type": "code",
   "execution_count": null,
   "id": "8032643c-4b4b-423d-8077-f9ace0b27d8e",
   "metadata": {},
   "outputs": [],
   "source": []
  }
 ],
 "metadata": {
  "kernelspec": {
   "display_name": "Python 3 (ipykernel)",
   "language": "python",
   "name": "python3"
  },
  "language_info": {
   "codemirror_mode": {
    "name": "ipython",
    "version": 3
   },
   "file_extension": ".py",
   "mimetype": "text/x-python",
   "name": "python",
   "nbconvert_exporter": "python",
   "pygments_lexer": "ipython3",
   "version": "3.10.7"
  }
 },
 "nbformat": 4,
 "nbformat_minor": 5
}
