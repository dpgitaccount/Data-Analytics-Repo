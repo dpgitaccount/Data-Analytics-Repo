{
 "cells": [
  {
   "cell_type": "markdown",
   "id": "3453379e-db2c-40a6-a7a7-bfaaf1bd8343",
   "metadata": {},
   "source": [
    "# For loop"
   ]
  },
  {
   "cell_type": "code",
   "execution_count": 5,
   "id": "d94086c1-b467-4d4f-8f05-012ca8b31dad",
   "metadata": {},
   "outputs": [
    {
     "name": "stdin",
     "output_type": "stream",
     "text": [
      "Enter the number : 10\n"
     ]
    },
    {
     "name": "stdout",
     "output_type": "stream",
     "text": [
      "10 * 1 = 10\n",
      "10 * 2 = 20\n",
      "10 * 3 = 30\n",
      "10 * 4 = 40\n",
      "10 * 5 = 50\n",
      "10 * 6 = 60\n",
      "10 * 7 = 70\n",
      "10 * 8 = 80\n",
      "10 * 9 = 90\n",
      "10 * 10 = 100\n"
     ]
    }
   ],
   "source": [
    "n = int(input(\"Enter the number :\"))\n",
    "\n",
    "for i in range(1,11):\n",
    "    print(n, '*',i,'=',n*i)"
   ]
  },
  {
   "cell_type": "code",
   "execution_count": 6,
   "id": "5641ec17-9711-4627-9d77-54cc1735869f",
   "metadata": {},
   "outputs": [
    {
     "name": "stdout",
     "output_type": "stream",
     "text": [
      "1\n",
      "3\n",
      "5\n",
      "7\n",
      "9\n"
     ]
    }
   ],
   "source": [
    "# by using step size\n",
    "for i in range(1,11,2):\n",
    "    print(i)\n"
   ]
  },
  {
   "cell_type": "code",
   "execution_count": 56,
   "id": "d8ac438b-3d42-4b83-b22b-01189a6371de",
   "metadata": {},
   "outputs": [
    {
     "name": "stdout",
     "output_type": "stream",
     "text": [
      "2\n",
      "4\n",
      "6\n",
      "8\n",
      "10\n",
      "12\n",
      "14\n",
      "16\n",
      "18\n",
      "20\n"
     ]
    }
   ],
   "source": [
    "for i in range(2,21,2):\n",
    "    print(i)"
   ]
  },
  {
   "cell_type": "code",
   "execution_count": 16,
   "id": "952a640d-3145-4efe-ac6a-9bac9cb77431",
   "metadata": {},
   "outputs": [
    {
     "name": "stdin",
     "output_type": "stream",
     "text": [
      "Enter the number : 10\n"
     ]
    },
    {
     "name": "stdout",
     "output_type": "stream",
     "text": [
      "10\n",
      "20\n",
      "30\n",
      "40\n",
      "50\n",
      "60\n",
      "70\n",
      "80\n",
      "90\n",
      "100\n"
     ]
    }
   ],
   "source": [
    "## Table using formula in for loop\n",
    "table = int(input(\"Enter the number :\"))\n",
    "\n",
    "for i in range(n, (n*10)+1,n):\n",
    "    print(i)"
   ]
  },
  {
   "cell_type": "code",
   "execution_count": 25,
   "id": "f23f2d55-b598-47c3-8abc-f0f7d5a0a305",
   "metadata": {},
   "outputs": [
    {
     "name": "stdout",
     "output_type": "stream",
     "text": [
      "1 1\n",
      "1 2\n",
      "1 3\n",
      "1 4\n",
      "1 5\n",
      "1 6\n",
      "--------\n",
      "2 1\n",
      "2 2\n",
      "2 3\n",
      "2 4\n",
      "2 5\n",
      "2 6\n",
      "--------\n",
      "3 1\n",
      "3 2\n",
      "3 3\n",
      "3 4\n",
      "3 5\n",
      "3 6\n",
      "--------\n",
      "4 1\n",
      "4 2\n",
      "4 3\n",
      "4 4\n",
      "4 5\n",
      "4 6\n",
      "--------\n",
      "5 1\n",
      "5 2\n",
      "5 3\n",
      "5 4\n",
      "5 5\n",
      "5 6\n",
      "--------\n",
      "6 1\n",
      "6 2\n",
      "6 3\n",
      "6 4\n",
      "6 5\n",
      "6 6\n",
      "--------\n",
      "+++++++\n"
     ]
    }
   ],
   "source": [
    "## Nested For loop\n",
    "for i in range(1,7):\n",
    "    for j in range(1,7):\n",
    "        # for k in range(1,7):\n",
    "            print(i,j)\n",
    "    print('--------')\n",
    "print('+++++++')"
   ]
  },
  {
   "cell_type": "code",
   "execution_count": 32,
   "id": "f3a0a494-e3b2-4fc3-a3b3-38216dd84778",
   "metadata": {},
   "outputs": [
    {
     "name": "stdout",
     "output_type": "stream",
     "text": [
      "2 6\n",
      "3 5\n",
      "4 4\n",
      "5 3\n",
      "6 2\n",
      "######\n"
     ]
    }
   ],
   "source": [
    "for i in range(1,7):\n",
    "    for j in range(1,7):\n",
    "        if (i+j == 8):\n",
    "             print(i,j)\n",
    "    # print(\"-----\")\n",
    "print(\"######\")"
   ]
  },
  {
   "cell_type": "code",
   "execution_count": 40,
   "id": "0681048f-db60-43ca-9ffe-4dddd9b8a1b1",
   "metadata": {},
   "outputs": [
    {
     "name": "stdout",
     "output_type": "stream",
     "text": [
      "2 6\n",
      "3 5\n",
      "4 4\n",
      "5 3\n",
      "6 2\n",
      "5\n",
      "probality of 36 is \n",
      "14\n"
     ]
    }
   ],
   "source": [
    "## probability\n",
    "number = 0\n",
    "for i in range(1,7):\n",
    "    for j in range(1,7):\n",
    "        if (i+j == 8):\n",
    "            number = number + 1\n",
    "            print(i,j)\n",
    "print(number)\n",
    "print(\"probality of 36 is \")\n",
    "print(round((number/36)*100))"
   ]
  },
  {
   "cell_type": "code",
   "execution_count": 46,
   "id": "36537d42-e245-4c08-8e50-349eb7e6ebf3",
   "metadata": {},
   "outputs": [
    {
     "name": "stdout",
     "output_type": "stream",
     "text": [
      "1 = 0.0\n",
      "2 = 2.78\n",
      "3 = 5.56\n",
      "4 = 8.33\n",
      "5 = 11.11\n",
      "6 = 13.89\n",
      "7 = 16.67\n",
      "8 = 13.89\n",
      "9 = 11.11\n",
      "10 = 8.33\n",
      "11 = 5.56\n",
      "12 = 2.78\n",
      "------\n",
      "End of code\n"
     ]
    }
   ],
   "source": [
    "## rolling of 2 dice -\n",
    "for n in range(1, 13):\n",
    "    number = 0\n",
    "    for i in range(1,7):\n",
    "        for j in range(1,7):\n",
    "            if (i + j == n):\n",
    "                number = number + 1\n",
    "                \n",
    "    print(n, \"=\", round((number /36)*100,2))\n",
    "print(\"------\")\n",
    "print(\"End of code\")"
   ]
  },
  {
   "cell_type": "code",
   "execution_count": 49,
   "id": "cf31fe3d-5ab5-4bbe-9773-5daf8f5d177c",
   "metadata": {},
   "outputs": [
    {
     "name": "stdout",
     "output_type": "stream",
     "text": [
      "1 = 0.0\n",
      "2 = 0.0\n",
      "3 = 0.46\n",
      "4 = 1.39\n",
      "5 = 2.78\n",
      "6 = 4.63\n",
      "7 = 6.94\n",
      "8 = 9.72\n",
      "9 = 11.57\n",
      "10 = 12.5\n",
      "11 = 12.5\n",
      "12 = 11.57\n",
      "13 = 9.72\n",
      "14 = 6.94\n",
      "15 = 4.63\n",
      "16 = 2.78\n",
      "17 = 1.39\n",
      "18 = 0.46\n",
      "-------\n",
      "end of Code\n"
     ]
    }
   ],
   "source": [
    "## Rolling of 3 Dice\n",
    "for n in range(1,19):\n",
    "    number = 0\n",
    "    for i in range(1,7):\n",
    "        for j in range(1,7):\n",
    "            for k in range(1,7):\n",
    "                if (i + j + k == n):\n",
    "                    number = number + 1\n",
    "    print(n, '=', round((number / 216)* 100 , 2))\n",
    "print(\"-------\")\n",
    "print(\"end of Code\")"
   ]
  },
  {
   "cell_type": "code",
   "execution_count": 55,
   "id": "e01b1bb7-d6bc-4717-929e-76eeaf99dc85",
   "metadata": {},
   "outputs": [
    {
     "name": "stdin",
     "output_type": "stream",
     "text": [
      "Enter the number :  153\n"
     ]
    },
    {
     "name": "stdout",
     "output_type": "stream",
     "text": [
      "153 is an Armstrong Number. \n"
     ]
    }
   ],
   "source": [
    "##Problem Statement - Write a program checking whether a number is an Armstrong number. An Armstrong number (also known as a narcissistic number, pluperfect digital invariant, or pluperfect number) is a number that is the sum of its own digits each raised to the power of the number of digits.\n",
    "def is_armstrong_number(number):\n",
    "    num_str = str(number)\n",
    "    num_digits = len(num_str)\n",
    "    sum_of_digits = sum(int(digit) ** num_digits for digit in num_str)\n",
    "    return sum_of_digits == number\n",
    "\n",
    "# Input from user\n",
    "num = int(input(\"Enter the number : \"))\n",
    "\n",
    "if is_armstrong_number(num):\n",
    "    print(f\"{num} is an Armstrong Number. \")\n",
    "else:\n",
    "    print(f\"{num} is not an Armstrong number.n\")\n",
    "    \n"
   ]
  },
  {
   "cell_type": "code",
   "execution_count": null,
   "id": "f5b33e2a-f6fa-4a89-a9e4-9e53087f8adf",
   "metadata": {},
   "outputs": [],
   "source": []
  },
  {
   "cell_type": "code",
   "execution_count": null,
   "id": "b4ab83fa-4e00-4804-899c-57506efe7e67",
   "metadata": {},
   "outputs": [],
   "source": []
  }
 ],
 "metadata": {
  "kernelspec": {
   "display_name": "Python 3 (ipykernel)",
   "language": "python",
   "name": "python3"
  },
  "language_info": {
   "codemirror_mode": {
    "name": "ipython",
    "version": 3
   },
   "file_extension": ".py",
   "mimetype": "text/x-python",
   "name": "python",
   "nbconvert_exporter": "python",
   "pygments_lexer": "ipython3",
   "version": "3.10.7"
  }
 },
 "nbformat": 4,
 "nbformat_minor": 5
}
