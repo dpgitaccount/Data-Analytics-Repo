{
 "cells": [
  {
   "cell_type": "markdown",
   "id": "430d59f5-bbdc-4ac9-a06a-baaace6ea18b",
   "metadata": {},
   "source": [
    "# Dictionaries"
   ]
  },
  {
   "cell_type": "code",
   "execution_count": 39,
   "id": "8176d6f9-f4da-4ba0-a298-95cbfa485c71",
   "metadata": {},
   "outputs": [
    {
     "name": "stdout",
     "output_type": "stream",
     "text": [
      "{1: 'Prakash', 2: 'Aditya', 3: 'Satya', 4: 'Anjali', 5: 1, 6: 2.5, 7: 'Prakash', '1': 'Daniel', 'Prakash': 1}\n",
      "<class 'dict'>\n",
      "9\n",
      "--------------------------------------------------\n",
      "{1: 'Prakash', 2: 'Aditya', 3: 'Satya', 4: 'Anjali', 5: 1, 6: 2.5, 7: 'Prakash', '1': 'Daniel', 'Prakash': 1}\n",
      "Prakash\n",
      "1\n",
      "Aditya\n",
      "--------------------------------------------------\n",
      "{1: 'Prakash', 2: 'Aditya', 3: 'Satya', 4: 'Anjali', 5: 1, 6: 2.5, 7: 'Prakash', '1': 'Daniel', 'Prakash': 1}\n",
      "{1: 'Prakash', 2: 'Aditya', 3: 'Satya', 4: 'Anjali', 5: 1, 6: 2.5, 7: 'Prakash', '1': 'Daniel', 'Prakash': 1, 8: 'Rohit'}\n",
      "{1: 'Prakash', 2: 'Aditya', 3: 'Satya', 4: 'Anjali', 5: 1, 6: 2.5, 7: 'Prakash', '1': 'Daniel', 'Prakash': 1}\n",
      "--------------------------------------------------\n",
      "{1: 'Prakash', 2: 'Aditya', 3: 'Satya', 4: 'Anjali', 5: 1, 6: 2.5, 7: 'Prakash', '1': 'Daniel', 'Prakash': 1}\n",
      "{}\n",
      "--------------------------------------------------\n",
      "{1: 'Prakash', 2: 'Aditya', 3: 'Satya', 4: 'Anjali', 5: 1, 6: 2.5, 7: 'Prakash', '1': 'Daniel', 'Prakash': 1}\n",
      "dict_keys([1, 2, 3, 4, 5, 6, 7, '1', 'Prakash'])\n",
      "dict_values(['Prakash', 'Aditya', 'Satya', 'Anjali', 1, 2.5, 'Prakash', 'Daniel', 1])\n",
      "1 Prakash\n",
      "2 Aditya\n",
      "3 Satya\n",
      "4 Anjali\n",
      "5 1\n",
      "6 2.5\n",
      "7 Prakash\n",
      "1 Daniel\n",
      "Prakash 1\n",
      "<built-in method items of dict object at 0x000001D657BE0D40>\n",
      "1 Prakash\n",
      "2 Aditya\n",
      "3 Satya\n",
      "4 Anjali\n",
      "5 1\n",
      "6 2.5\n",
      "7 Prakash\n",
      "1 Daniel\n",
      "Prakash 1\n",
      "--------------------------------------------------\n",
      "{1: 'Prakash', 2: 'Aditya', 3: 'Satya', 4: 'Anjali', 5: 1, 6: 2.5, 7: 'Prakash', '1': 'Daniel', 'Prakash': 1}\n",
      "True\n",
      "False\n",
      "True\n",
      "--------------------------------------------------\n",
      "{1: 'a', 2: 'b', 3: 'c', 4: 'd'}\n",
      "{1: 'a', 2: 'b', 3: 'c', 4: 'd'}\n",
      "--------------------------------------------------\n"
     ]
    }
   ],
   "source": [
    "## Initializing \n",
    "dict = {1: \"Prakash\", 2: \"Aditya\", 3: \"Satya\", 4: \"Anjali\", 5:1, 6:2.5, 7: \"Prakash\", '1': \"Daniel\", 'Prakash': 1 }\n",
    "print(dict)\n",
    "print(type(dict))\n",
    "print(len(dict))\n",
    "print('-'*50)\n",
    "\n",
    "## Accessing the elements\n",
    "print(dict)\n",
    "print(dict[1])\n",
    "print(dict['Prakash'])\n",
    "print(dict.get(2)) # this is also used for accessing the element in dictionaries\n",
    "print('-'*50)\n",
    "\n",
    "## adding and Updating the key-value pairs\n",
    "print(dict)\n",
    "dict[8] ='Rohit'\n",
    "print(dict)\n",
    "del dict[8]\n",
    "print(dict)\n",
    "print('-'*50)\n",
    "\n",
    "\n",
    "## Cleaning the dictionaries\n",
    "print(dict)\n",
    "dict.clear()\n",
    "print(dict)\n",
    "print('-'*50)\n",
    "\n",
    "## Iterating through the dictionaries\n",
    "dict = {1: \"Prakash\", 2: \"Aditya\", 3: \"Satya\", 4: \"Anjali\", 5:1, 6:2.5, 7: \"Prakash\", '1': \"Daniel\", 'Prakash': 1 }\n",
    "print(dict)\n",
    "print(dict.keys())\n",
    "print(dict.values())\n",
    "\n",
    "for k in dict.keys():\n",
    "    print(k,dict[k])\n",
    "\n",
    "print(dict.items)\n",
    "\n",
    "for k, v in dict.items():\n",
    "    print(k, v)\n",
    "    \n",
    "print('-'*50)\n",
    "\n",
    "## check if key is present\n",
    "print(dict)\n",
    "print(1 in dict)\n",
    "print(10 in dict)\n",
    "print('1' in dict)\n",
    "print('-'*50)\n",
    "\n",
    "\n",
    "## dict updating the dictionaries\n",
    "dict_1 = {1 :'A', 2:'B', 3:'C',4:'D'}\n",
    "dict_2 = {1 :'a', 2:'b', 3:'c',4:'d'}\n",
    "dict_1.update(dict_2)\n",
    "print(dict_1)\n",
    "print(dict_2)\n",
    "\n",
    "print('-'*50)\n"
   ]
  },
  {
   "cell_type": "code",
   "execution_count": 41,
   "id": "605bb071-25b8-4785-93cf-0cd432569769",
   "metadata": {},
   "outputs": [
    {
     "name": "stdin",
     "output_type": "stream",
     "text": [
      "Enter a sentence:  my name is praksh\n"
     ]
    },
    {
     "name": "stdout",
     "output_type": "stream",
     "text": [
      "Word frequencies in the sentence:\n",
      "my 1\n",
      "name 1\n",
      "is 1\n",
      "praksh 1\n"
     ]
    }
   ],
   "source": [
    "## Problem Statement - Write a Python program that takes a sentence and count the frequency of each unique word in the sentence.\n",
    "\n",
    "def word_frequency_counter(sentence):\n",
    "    word_list = sentence.split()\n",
    "    word_counts = {}\n",
    "\n",
    "    for word in word_list:\n",
    "      word_counts[word] = word_counts.get(word, 0) + 1\n",
    "\n",
    "    return word_counts\n",
    "\n",
    "user_sentence = input(\"Enter a sentence: \")\n",
    "\n",
    "word_frequencies = word_frequency_counter(user_sentence)\n",
    "print(\"Word frequencies in the sentence:\")\n",
    "for word, count in word_frequencies.items():\n",
    "    print(word, count)\n"
   ]
  },
  {
   "cell_type": "code",
   "execution_count": 42,
   "id": "ab486c02-b370-4876-9aa9-6ba4fbd09aff",
   "metadata": {},
   "outputs": [
    {
     "name": "stdout",
     "output_type": "stream",
     "text": [
      "Element: 3, Frequency: 1\n",
      "Element: 4, Frequency: 1\n"
     ]
    }
   ],
   "source": [
    "## Problem Statement - Find Common Elements from the given multiple Lists.\n",
    "def find_common_elements(lists):\n",
    "    common_elements = {element: min(lst.count(element) for lst in lists) for element in set.intersection(*map(set, lists))}\n",
    "    return common_elements\n",
    "\n",
    "list1 = [1, 2, 2, 3, 4]\n",
    "list2 = [2, 3, 4, 4, 5]\n",
    "list3 = [3, 4, 5, 5, 6]\n",
    "\n",
    "result = find_common_elements([list1, list2, list3])\n",
    "\n",
    "for element, frequency in result.items():\n",
    "    print(f\"Element: {element}, Frequency: {frequency}\")\n",
    "\n",
    "\n",
    "\n",
    "\n"
   ]
  },
  {
   "cell_type": "code",
   "execution_count": null,
   "id": "b2689eea-a679-4756-9ab0-153c841a26cd",
   "metadata": {},
   "outputs": [],
   "source": []
  }
 ],
 "metadata": {
  "kernelspec": {
   "display_name": "Python 3 (ipykernel)",
   "language": "python",
   "name": "python3"
  },
  "language_info": {
   "codemirror_mode": {
    "name": "ipython",
    "version": 3
   },
   "file_extension": ".py",
   "mimetype": "text/x-python",
   "name": "python",
   "nbconvert_exporter": "python",
   "pygments_lexer": "ipython3",
   "version": "3.10.7"
  }
 },
 "nbformat": 4,
 "nbformat_minor": 5
}
