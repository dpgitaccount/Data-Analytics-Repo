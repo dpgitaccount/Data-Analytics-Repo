{
 "cells": [
  {
   "cell_type": "markdown",
   "id": "52e11863-31c6-4704-809c-9811e2533598",
   "metadata": {},
   "source": [
    "# Pandas"
   ]
  },
  {
   "cell_type": "code",
   "execution_count": 36,
   "id": "3680ab44-3e3a-4270-9104-b893a73c8602",
   "metadata": {},
   "outputs": [],
   "source": [
    "## Installing Of Pandas Library\n",
    "!pip install pandas"
   ]
  },
  {
   "cell_type": "code",
   "execution_count": 16,
   "id": "482d823f-3882-422b-ae7f-793a7021201d",
   "metadata": {},
   "outputs": [],
   "source": [
    "## importing of Numpy and Pandas \n",
    "import numpy as np\n",
    "import pandas as pd"
   ]
  },
  {
   "cell_type": "code",
   "execution_count": 17,
   "id": "44504fad-1d50-4047-b751-78aa49820078",
   "metadata": {},
   "outputs": [
    {
     "data": {
      "text/plain": [
       "array([1, 2, 3, 4, 5, 6])"
      ]
     },
     "execution_count": 17,
     "metadata": {},
     "output_type": "execute_result"
    }
   ],
   "source": [
    "lst = [1,2,3,4,5,6]\n",
    "np.array(lst)"
   ]
  },
  {
   "cell_type": "code",
   "execution_count": 18,
   "id": "36d6d26d-9544-424a-a549-c0c551f00069",
   "metadata": {},
   "outputs": [
    {
     "data": {
      "text/plain": [
       "0    1\n",
       "1    2\n",
       "2    3\n",
       "3    4\n",
       "4    5\n",
       "5    6\n",
       "dtype: int64"
      ]
     },
     "execution_count": 18,
     "metadata": {},
     "output_type": "execute_result"
    }
   ],
   "source": [
    "pd.Series(lst)"
   ]
  },
  {
   "cell_type": "code",
   "execution_count": 21,
   "id": "ac7ed991-a6db-481e-b3e7-b3fde0b51075",
   "metadata": {},
   "outputs": [
    {
     "data": {
      "text/plain": [
       "0    [1, 2, 3, 4, 5, 6]\n",
       "1    [1, 2, 3, 4, 5, 6]\n",
       "2    [1, 2, 3, 4, 5, 6]\n",
       "dtype: object"
      ]
     },
     "execution_count": 21,
     "metadata": {},
     "output_type": "execute_result"
    }
   ],
   "source": [
    "pd.Series([lst,lst,lst])\n"
   ]
  },
  {
   "cell_type": "code",
   "execution_count": 33,
   "id": "85d0b1b8-0f50-4cb4-a59e-adc83ffd11ef",
   "metadata": {},
   "outputs": [],
   "source": [
    "## Creating DataFrame\n",
    "\n",
    "df = pd.DataFrame([lst,lst,lst,lst,lst], columns = ['A','B','C','D','E','F'])#, rows = ['R1','R2','R3'])"
   ]
  },
  {
   "cell_type": "code",
   "execution_count": 34,
   "id": "bfcc29ce-5697-45a0-807e-0326d42d3c5b",
   "metadata": {},
   "outputs": [
    {
     "data": {
      "text/plain": [
       "pandas.core.frame.DataFrame"
      ]
     },
     "execution_count": 34,
     "metadata": {},
     "output_type": "execute_result"
    }
   ],
   "source": [
    "## Type of Data Frame\n",
    "type(df)"
   ]
  },
  {
   "cell_type": "code",
   "execution_count": 35,
   "id": "d8d4605f-64b7-4309-97b8-078c086bed04",
   "metadata": {},
   "outputs": [
    {
     "data": {
      "text/html": [
       "<div>\n",
       "<style scoped>\n",
       "    .dataframe tbody tr th:only-of-type {\n",
       "        vertical-align: middle;\n",
       "    }\n",
       "\n",
       "    .dataframe tbody tr th {\n",
       "        vertical-align: top;\n",
       "    }\n",
       "\n",
       "    .dataframe thead th {\n",
       "        text-align: right;\n",
       "    }\n",
       "</style>\n",
       "<table border=\"1\" class=\"dataframe\">\n",
       "  <thead>\n",
       "    <tr style=\"text-align: right;\">\n",
       "      <th></th>\n",
       "      <th>A</th>\n",
       "      <th>B</th>\n",
       "      <th>C</th>\n",
       "      <th>D</th>\n",
       "      <th>E</th>\n",
       "      <th>F</th>\n",
       "    </tr>\n",
       "  </thead>\n",
       "  <tbody>\n",
       "    <tr>\n",
       "      <th>0</th>\n",
       "      <td>1</td>\n",
       "      <td>2</td>\n",
       "      <td>3</td>\n",
       "      <td>4</td>\n",
       "      <td>5</td>\n",
       "      <td>6</td>\n",
       "    </tr>\n",
       "    <tr>\n",
       "      <th>1</th>\n",
       "      <td>1</td>\n",
       "      <td>2</td>\n",
       "      <td>3</td>\n",
       "      <td>4</td>\n",
       "      <td>5</td>\n",
       "      <td>6</td>\n",
       "    </tr>\n",
       "    <tr>\n",
       "      <th>2</th>\n",
       "      <td>1</td>\n",
       "      <td>2</td>\n",
       "      <td>3</td>\n",
       "      <td>4</td>\n",
       "      <td>5</td>\n",
       "      <td>6</td>\n",
       "    </tr>\n",
       "    <tr>\n",
       "      <th>3</th>\n",
       "      <td>1</td>\n",
       "      <td>2</td>\n",
       "      <td>3</td>\n",
       "      <td>4</td>\n",
       "      <td>5</td>\n",
       "      <td>6</td>\n",
       "    </tr>\n",
       "    <tr>\n",
       "      <th>4</th>\n",
       "      <td>1</td>\n",
       "      <td>2</td>\n",
       "      <td>3</td>\n",
       "      <td>4</td>\n",
       "      <td>5</td>\n",
       "      <td>6</td>\n",
       "    </tr>\n",
       "  </tbody>\n",
       "</table>\n",
       "</div>"
      ],
      "text/plain": [
       "   A  B  C  D  E  F\n",
       "0  1  2  3  4  5  6\n",
       "1  1  2  3  4  5  6\n",
       "2  1  2  3  4  5  6\n",
       "3  1  2  3  4  5  6\n",
       "4  1  2  3  4  5  6"
      ]
     },
     "execution_count": 35,
     "metadata": {},
     "output_type": "execute_result"
    }
   ],
   "source": [
    "df"
   ]
  },
  {
   "cell_type": "code",
   "execution_count": 30,
   "id": "2334c03c-4054-4607-92aa-100aea70a168",
   "metadata": {},
   "outputs": [],
   "source": [
    "## Deletting Dataframe\n",
    "del df"
   ]
  },
  {
   "cell_type": "code",
   "execution_count": 31,
   "id": "65b0dd74-41e8-410b-96f5-0ec76465e6d2",
   "metadata": {},
   "outputs": [
    {
     "ename": "NameError",
     "evalue": "name 'df' is not defined",
     "output_type": "error",
     "traceback": [
      "\u001b[1;31m---------------------------------------------------------------------------\u001b[0m",
      "\u001b[1;31mNameError\u001b[0m                                 Traceback (most recent call last)",
      "Cell \u001b[1;32mIn[31], line 1\u001b[0m\n\u001b[1;32m----> 1\u001b[0m \u001b[43mdf\u001b[49m\n",
      "\u001b[1;31mNameError\u001b[0m: name 'df' is not defined"
     ]
    }
   ],
   "source": [
    "df"
   ]
  },
  {
   "cell_type": "code",
   "execution_count": null,
   "id": "bc8d93d8-3b39-4e32-8a25-364a35214557",
   "metadata": {},
   "outputs": [],
   "source": [
    "## Inbult\n",
    "#pd.enter tab and get whole inbulit functions\n",
    "pd.array() #enter shift + tab and get Documentation of function)"
   ]
  }
 ],
 "metadata": {
  "kernelspec": {
   "display_name": "Python 3 (ipykernel)",
   "language": "python",
   "name": "python3"
  },
  "language_info": {
   "codemirror_mode": {
    "name": "ipython",
    "version": 3
   },
   "file_extension": ".py",
   "mimetype": "text/x-python",
   "name": "python",
   "nbconvert_exporter": "python",
   "pygments_lexer": "ipython3",
   "version": "3.10.7"
  }
 },
 "nbformat": 4,
 "nbformat_minor": 5
}
