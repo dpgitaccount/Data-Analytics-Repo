{
 "cells": [
  {
   "cell_type": "markdown",
   "id": "80f8d388-1e7a-4563-b62d-321f9af46482",
   "metadata": {},
   "source": [
    "# Analysis on Categorical Data"
   ]
  },
  {
   "cell_type": "code",
   "execution_count": 1,
   "id": "59625356-39e5-48d5-8298-3a90999a48ee",
   "metadata": {},
   "outputs": [],
   "source": [
    "import pandas as pd"
   ]
  },
  {
   "cell_type": "code",
   "execution_count": 33,
   "id": "1e056006-6dae-44c3-ba92-08e80db33f70",
   "metadata": {},
   "outputs": [
    {
     "data": {
      "text/html": [
       "<div>\n",
       "<style scoped>\n",
       "    .dataframe tbody tr th:only-of-type {\n",
       "        vertical-align: middle;\n",
       "    }\n",
       "\n",
       "    .dataframe tbody tr th {\n",
       "        vertical-align: top;\n",
       "    }\n",
       "\n",
       "    .dataframe thead th {\n",
       "        text-align: right;\n",
       "    }\n",
       "</style>\n",
       "<table border=\"1\" class=\"dataframe\">\n",
       "  <thead>\n",
       "    <tr style=\"text-align: right;\">\n",
       "      <th></th>\n",
       "      <th>App</th>\n",
       "      <th>Category</th>\n",
       "      <th>Rating</th>\n",
       "      <th>Reviews</th>\n",
       "      <th>Size</th>\n",
       "      <th>Installs</th>\n",
       "      <th>Type</th>\n",
       "      <th>Price</th>\n",
       "      <th>Content Rating</th>\n",
       "      <th>Genres</th>\n",
       "      <th>Last Updated</th>\n",
       "      <th>Current Ver</th>\n",
       "      <th>Android Ver</th>\n",
       "    </tr>\n",
       "  </thead>\n",
       "  <tbody>\n",
       "    <tr>\n",
       "      <th>0</th>\n",
       "      <td>Photo Editor &amp; Candy Camera &amp; Grid &amp; ScrapBook</td>\n",
       "      <td>ART_AND_DESIGN</td>\n",
       "      <td>4.1</td>\n",
       "      <td>159</td>\n",
       "      <td>19M</td>\n",
       "      <td>10,000+</td>\n",
       "      <td>Free</td>\n",
       "      <td>0</td>\n",
       "      <td>Everyone</td>\n",
       "      <td>Art &amp; Design</td>\n",
       "      <td>January 7, 2018</td>\n",
       "      <td>1.0.0</td>\n",
       "      <td>4.0.3 and up</td>\n",
       "    </tr>\n",
       "    <tr>\n",
       "      <th>1</th>\n",
       "      <td>Coloring book moana</td>\n",
       "      <td>ART_AND_DESIGN</td>\n",
       "      <td>3.9</td>\n",
       "      <td>967</td>\n",
       "      <td>14M</td>\n",
       "      <td>500,000+</td>\n",
       "      <td>Free</td>\n",
       "      <td>0</td>\n",
       "      <td>Everyone</td>\n",
       "      <td>Art &amp; Design;Pretend Play</td>\n",
       "      <td>January 15, 2018</td>\n",
       "      <td>2.0.0</td>\n",
       "      <td>4.0.3 and up</td>\n",
       "    </tr>\n",
       "    <tr>\n",
       "      <th>2</th>\n",
       "      <td>U Launcher Lite – FREE Live Cool Themes, Hide ...</td>\n",
       "      <td>ART_AND_DESIGN</td>\n",
       "      <td>4.7</td>\n",
       "      <td>87510</td>\n",
       "      <td>8.7M</td>\n",
       "      <td>5,000,000+</td>\n",
       "      <td>Free</td>\n",
       "      <td>0</td>\n",
       "      <td>Everyone</td>\n",
       "      <td>Art &amp; Design</td>\n",
       "      <td>August 1, 2018</td>\n",
       "      <td>1.2.4</td>\n",
       "      <td>4.0.3 and up</td>\n",
       "    </tr>\n",
       "    <tr>\n",
       "      <th>3</th>\n",
       "      <td>Sketch - Draw &amp; Paint</td>\n",
       "      <td>ART_AND_DESIGN</td>\n",
       "      <td>4.5</td>\n",
       "      <td>215644</td>\n",
       "      <td>25M</td>\n",
       "      <td>50,000,000+</td>\n",
       "      <td>Free</td>\n",
       "      <td>0</td>\n",
       "      <td>Teen</td>\n",
       "      <td>Art &amp; Design</td>\n",
       "      <td>June 8, 2018</td>\n",
       "      <td>Varies with device</td>\n",
       "      <td>4.2 and up</td>\n",
       "    </tr>\n",
       "    <tr>\n",
       "      <th>4</th>\n",
       "      <td>Pixel Draw - Number Art Coloring Book</td>\n",
       "      <td>ART_AND_DESIGN</td>\n",
       "      <td>4.3</td>\n",
       "      <td>967</td>\n",
       "      <td>2.8M</td>\n",
       "      <td>100,000+</td>\n",
       "      <td>Free</td>\n",
       "      <td>0</td>\n",
       "      <td>Everyone</td>\n",
       "      <td>Art &amp; Design;Creativity</td>\n",
       "      <td>June 20, 2018</td>\n",
       "      <td>1.1</td>\n",
       "      <td>4.4 and up</td>\n",
       "    </tr>\n",
       "  </tbody>\n",
       "</table>\n",
       "</div>"
      ],
      "text/plain": [
       "                                                 App        Category  Rating  \\\n",
       "0     Photo Editor & Candy Camera & Grid & ScrapBook  ART_AND_DESIGN     4.1   \n",
       "1                                Coloring book moana  ART_AND_DESIGN     3.9   \n",
       "2  U Launcher Lite – FREE Live Cool Themes, Hide ...  ART_AND_DESIGN     4.7   \n",
       "3                              Sketch - Draw & Paint  ART_AND_DESIGN     4.5   \n",
       "4              Pixel Draw - Number Art Coloring Book  ART_AND_DESIGN     4.3   \n",
       "\n",
       "  Reviews  Size     Installs  Type Price Content Rating  \\\n",
       "0     159   19M      10,000+  Free     0       Everyone   \n",
       "1     967   14M     500,000+  Free     0       Everyone   \n",
       "2   87510  8.7M   5,000,000+  Free     0       Everyone   \n",
       "3  215644   25M  50,000,000+  Free     0           Teen   \n",
       "4     967  2.8M     100,000+  Free     0       Everyone   \n",
       "\n",
       "                      Genres      Last Updated         Current Ver  \\\n",
       "0               Art & Design   January 7, 2018               1.0.0   \n",
       "1  Art & Design;Pretend Play  January 15, 2018               2.0.0   \n",
       "2               Art & Design    August 1, 2018               1.2.4   \n",
       "3               Art & Design      June 8, 2018  Varies with device   \n",
       "4    Art & Design;Creativity     June 20, 2018                 1.1   \n",
       "\n",
       "    Android Ver  \n",
       "0  4.0.3 and up  \n",
       "1  4.0.3 and up  \n",
       "2  4.0.3 and up  \n",
       "3    4.2 and up  \n",
       "4    4.4 and up  "
      ]
     },
     "execution_count": 33,
     "metadata": {},
     "output_type": "execute_result"
    }
   ],
   "source": [
    "df = pd.read_csv(\"googleplaystore.csv\").dropna()\n",
    "df.head(5)"
   ]
  },
  {
   "cell_type": "markdown",
   "id": "6b842cc0-4708-4c92-999c-e789eef77307",
   "metadata": {},
   "source": [
    "# 1.Total number of categories"
   ]
  },
  {
   "cell_type": "code",
   "execution_count": 8,
   "id": "29e91fdc-2df9-434d-bf30-fdb124d989a5",
   "metadata": {},
   "outputs": [
    {
     "name": "stdout",
     "output_type": "stream",
     "text": [
      "ART_AND_DESIGN\n",
      "AUTO_AND_VEHICLES\n",
      "BEAUTY\n",
      "BOOKS_AND_REFERENCE\n",
      "BUSINESS\n",
      "COMICS\n",
      "COMMUNICATION\n",
      "DATING\n",
      "EDUCATION\n",
      "ENTERTAINMENT\n",
      "EVENTS\n",
      "FINANCE\n",
      "FOOD_AND_DRINK\n",
      "HEALTH_AND_FITNESS\n",
      "HOUSE_AND_HOME\n",
      "LIBRARIES_AND_DEMO\n",
      "LIFESTYLE\n",
      "GAME\n",
      "FAMILY\n",
      "MEDICAL\n",
      "SOCIAL\n",
      "SHOPPING\n",
      "PHOTOGRAPHY\n",
      "SPORTS\n",
      "TRAVEL_AND_LOCAL\n",
      "TOOLS\n",
      "PERSONALIZATION\n",
      "PRODUCTIVITY\n",
      "PARENTING\n",
      "WEATHER\n",
      "VIDEO_PLAYERS\n",
      "NEWS_AND_MAGAZINES\n",
      "MAPS_AND_NAVIGATION\n"
     ]
    }
   ],
   "source": [
    "for i in df['Category'].unique():\n",
    "    print(i)"
   ]
  },
  {
   "cell_type": "code",
   "execution_count": 10,
   "id": "67a73071-44c0-4d8d-b32f-78572ccfe802",
   "metadata": {},
   "outputs": [
    {
     "name": "stdout",
     "output_type": "stream",
     "text": [
      "there are total 33 Categories\n"
     ]
    }
   ],
   "source": [
    "print(\"there are total\", len(df['Category'].unique()),'Categories')"
   ]
  },
  {
   "cell_type": "markdown",
   "id": "f7c657fe-f5df-4b20-bb04-929650397679",
   "metadata": {},
   "source": [
    "# 2.Total apps in Art And Design"
   ]
  },
  {
   "cell_type": "code",
   "execution_count": 37,
   "id": "b1814129-41e5-4750-8255-6f9372fdda00",
   "metadata": {},
   "outputs": [
    {
     "name": "stdout",
     "output_type": "stream",
     "text": [
      "there are total 61 application in Art and Design\n"
     ]
    }
   ],
   "source": [
    "# Finding totla value one by one\n",
    "c = 0\n",
    "for i in df['Category']:\n",
    "    if (i == 'ART_AND_DESIGN'):\n",
    "        c += 1\n",
    "print(\"there are total\", c, 'application in Art and Design')\n",
    "        "
   ]
  },
  {
   "cell_type": "code",
   "execution_count": 43,
   "id": "898a34a1-7d37-430d-ae29-2d5a524d1285",
   "metadata": {},
   "outputs": [
    {
     "name": "stdout",
     "output_type": "stream",
     "text": [
      "ART_AND_DESIGN : 61\n",
      "AUTO_AND_VEHICLES : 73\n",
      "BEAUTY : 42\n",
      "BOOKS_AND_REFERENCE : 178\n",
      "BUSINESS : 303\n",
      "COMICS : 58\n",
      "COMMUNICATION : 328\n",
      "DATING : 195\n",
      "EDUCATION : 155\n",
      "ENTERTAINMENT : 149\n",
      "EVENTS : 45\n",
      "FINANCE : 323\n",
      "FOOD_AND_DRINK : 109\n",
      "HEALTH_AND_FITNESS : 297\n",
      "HOUSE_AND_HOME : 76\n",
      "LIBRARIES_AND_DEMO : 64\n",
      "LIFESTYLE : 314\n",
      "GAME : 1097\n",
      "FAMILY : 1746\n",
      "MEDICAL : 350\n",
      "SOCIAL : 259\n",
      "SHOPPING : 238\n",
      "PHOTOGRAPHY : 317\n",
      "SPORTS : 319\n",
      "TRAVEL_AND_LOCAL : 226\n",
      "TOOLS : 733\n",
      "PERSONALIZATION : 312\n",
      "PRODUCTIVITY : 351\n",
      "PARENTING : 50\n",
      "WEATHER : 75\n",
      "VIDEO_PLAYERS : 160\n",
      "NEWS_AND_MAGAZINES : 233\n",
      "MAPS_AND_NAVIGATION : 124\n"
     ]
    }
   ],
   "source": [
    "## Finding All Value of different category in once\n",
    "for name in df['Category'].unique():\n",
    "    ct = 0\n",
    "    for i in df['Category']:\n",
    "        if (i == name):\n",
    "            ct += 1\n",
    "    print(name,':', ct)\n",
    "        "
   ]
  },
  {
   "cell_type": "code",
   "execution_count": 12,
   "id": "cbd0ba87-747e-46a4-a8c9-5163788d923c",
   "metadata": {},
   "outputs": [
    {
     "data": {
      "text/plain": [
       "array(['Free', 'Paid'], dtype=object)"
      ]
     },
     "execution_count": 12,
     "metadata": {},
     "output_type": "execute_result"
    }
   ],
   "source": [
    "## Total no. of App Type\n",
    "df['Type'].unique()"
   ]
  },
  {
   "cell_type": "markdown",
   "id": "456dabe3-5ddb-4f75-a01a-c09c842cc3b3",
   "metadata": {},
   "source": [
    "# 3.Total number of Paid and Free Apps"
   ]
  },
  {
   "cell_type": "code",
   "execution_count": 25,
   "id": "79fe1a0f-0668-4b3b-9dbc-714a31de3738",
   "metadata": {},
   "outputs": [
    {
     "name": "stdout",
     "output_type": "stream",
     "text": [
      "there are total 8715 free and 645 Paid applications\n"
     ]
    }
   ],
   "source": [
    "f = 0\n",
    "for i in df['Type']:\n",
    "    if (i == 'Free'):\n",
    "        f += 1\n",
    "print(\"there are total\",f,'free', end = ' ')\n",
    "\n",
    "p = 0\n",
    "for i in df['Type']:\n",
    "    if (i == 'Paid'):\n",
    "        p += 1\n",
    "print(\"and\", p, 'Paid applications')"
   ]
  },
  {
   "cell_type": "code",
   "execution_count": 31,
   "id": "dfe8385b-f9a2-46fe-8d2d-4e9ea6d548fe",
   "metadata": {},
   "outputs": [
    {
     "name": "stdout",
     "output_type": "stream",
     "text": [
      "93 % application are free!\n"
     ]
    }
   ],
   "source": [
    "## Percentage of free application in apps\n",
    "print(int(f /(f + p)*100),\"% application are free!\")"
   ]
  },
  {
   "cell_type": "markdown",
   "id": "4729c092-bbed-45c1-a531-1fb9676fc7ca",
   "metadata": {},
   "source": [
    "# 4.Name all the content Ratings"
   ]
  },
  {
   "cell_type": "code",
   "execution_count": 35,
   "id": "80831c5f-7ec7-4d1c-8070-9688155b9e46",
   "metadata": {},
   "outputs": [
    {
     "name": "stdout",
     "output_type": "stream",
     "text": [
      "Everyone\n",
      "Teen\n",
      "Everyone 10+\n",
      "Mature 17+\n",
      "Adults only 18+\n",
      "Unrated\n"
     ]
    }
   ],
   "source": [
    "for i in df['Content Rating'].unique():\n",
    "    print(i)"
   ]
  },
  {
   "cell_type": "code",
   "execution_count": 44,
   "id": "d88e2de6-479d-4ba6-85fb-39a259453de5",
   "metadata": {},
   "outputs": [
    {
     "name": "stdout",
     "output_type": "stream",
     "text": [
      "Everyone : 7414\n",
      "Teen : 1084\n",
      "Everyone 10+ : 397\n",
      "Mature 17+ : 461\n",
      "Adults only 18+ : 3\n",
      "Unrated : 1\n"
     ]
    }
   ],
   "source": [
    "## Finding all the values of Content Rating\n",
    "for name in df['Content Rating'].unique():\n",
    "    ct = 0\n",
    "    for i in df['Content Rating']:\n",
    "        if (i == name):\n",
    "            ct += 1\n",
    "    print(name,':', ct)"
   ]
  },
  {
   "cell_type": "code",
   "execution_count": 47,
   "id": "5dfc577e-00f2-4838-8f49-048bde0b1fec",
   "metadata": {},
   "outputs": [
    {
     "name": "stdout",
     "output_type": "stream",
     "text": [
      "{'Free': 8715, 'Paid': 645}\n"
     ]
    }
   ],
   "source": [
    "## Total no. of apps in each type\n",
    "\n",
    "types = {}\n",
    "for name in df['Type'].unique():\n",
    "    ct = 0\n",
    "    for i in df['Type']:\n",
    "        if(i == name):\n",
    "            ct += 1 \n",
    "    types[name] = ct\n",
    "print(types)\n",
    "    \n",
    "\n",
    "\n"
   ]
  },
  {
   "cell_type": "code",
   "execution_count": 49,
   "id": "c8031201-5643-4e8d-8107-649addad78c2",
   "metadata": {},
   "outputs": [
    {
     "name": "stdout",
     "output_type": "stream",
     "text": [
      "{'Everyone': 7414, 'Teen': 1084, 'Everyone 10+': 397, 'Mature 17+': 461, 'Adults only 18+': 3, 'Unrated': 1}\n"
     ]
    }
   ],
   "source": [
    "## Total number of apps in each content rating\n",
    "\n",
    "content_rating = {}\n",
    "for name in df['Content Rating'].unique():\n",
    "    ct = 0\n",
    "    for i in df['Content Rating']:\n",
    "        if(i == name):\n",
    "            ct += 1 \n",
    "    content_rating[name] = ct\n",
    "print(content_rating)\n",
    "    "
   ]
  },
  {
   "cell_type": "code",
   "execution_count": 54,
   "id": "3cf70e8e-e5f7-43c5-aeff-4074a5bafa17",
   "metadata": {},
   "outputs": [
    {
     "name": "stdout",
     "output_type": "stream",
     "text": [
      "{'Art & Design': 55, 'Art & Design;Pretend Play': 2, 'Art & Design;Creativity': 7, 'Auto & Vehicles': 73, 'Beauty': 42, 'Books & Reference': 178, 'Business': 303, 'Comics': 57, 'Comics;Creativity': 1, 'Communication': 328, 'Dating': 195, 'Education;Education': 50, 'Education': 468, 'Education;Creativity': 7, 'Education;Music & Video': 5, 'Education;Action & Adventure': 6, 'Education;Pretend Play': 23, 'Education;Brain Games': 4, 'Entertainment': 533, 'Entertainment;Music & Video': 27, 'Entertainment;Brain Games': 8, 'Entertainment;Creativity': 3, 'Events': 45, 'Finance': 323, 'Food & Drink': 109, 'Health & Fitness': 297, 'House & Home': 76, 'Libraries & Demo': 64, 'Lifestyle': 313, 'Lifestyle;Pretend Play': 1, 'Adventure;Action & Adventure': 13, 'Arcade': 207, 'Casual': 185, 'Card': 45, 'Casual;Pretend Play': 31, 'Action': 358, 'Strategy': 103, 'Puzzle': 120, 'Sports': 333, 'Music': 21, 'Word': 28, 'Racing': 93, 'Casual;Creativity': 7, 'Casual;Action & Adventure': 21, 'Simulation': 194, 'Adventure': 73, 'Board': 41, 'Trivia': 28, 'Role Playing': 106, 'Simulation;Education': 3, 'Action;Action & Adventure': 17, 'Casual;Brain Games': 13, 'Simulation;Action & Adventure': 11, 'Educational;Creativity': 5, 'Puzzle;Brain Games': 19, 'Educational;Education': 38, 'Card;Brain Games': 1, 'Educational;Brain Games': 6, 'Educational;Pretend Play': 18, 'Entertainment;Education': 1, 'Casual;Education': 3, 'Music;Music & Video': 3, 'Racing;Action & Adventure': 20, 'Arcade;Pretend Play': 1, 'Role Playing;Action & Adventure': 7, 'Simulation;Pretend Play': 4, 'Puzzle;Creativity': 2, 'Sports;Action & Adventure': 4, 'Educational;Action & Adventure': 4, 'Arcade;Action & Adventure': 15, 'Entertainment;Action & Adventure': 3, 'Puzzle;Action & Adventure': 5, 'Strategy;Action & Adventure': 2, 'Music & Audio;Music & Video': 1, 'Health & Fitness;Education': 1, 'Adventure;Education': 2, 'Board;Brain Games': 15, 'Board;Action & Adventure': 3, 'Board;Pretend Play': 1, 'Casual;Music & Video': 2, 'Role Playing;Pretend Play': 5, 'Entertainment;Pretend Play': 2, 'Video Players & Editors;Creativity': 2, 'Card;Action & Adventure': 2, 'Medical': 350, 'Social': 259, 'Shopping': 238, 'Photography': 317, 'Travel & Local': 225, 'Travel & Local;Action & Adventure': 1, 'Tools': 732, 'Tools;Education': 1, 'Personalization': 312, 'Productivity': 351, 'Parenting': 40, 'Parenting;Music & Video': 6, 'Parenting;Brain Games': 1, 'Parenting;Education': 3, 'Weather': 75, 'Video Players & Editors': 158, 'Video Players & Editors;Music & Video': 3, 'News & Magazines': 233, 'Maps & Navigation': 124, 'Health & Fitness;Action & Adventure': 1, 'Educational': 32, 'Casino': 37, 'Adventure;Brain Games': 1, 'Lifestyle;Education': 1, 'Books & Reference;Education': 2, 'Puzzle;Education': 1, 'Role Playing;Brain Games': 1, 'Strategy;Education': 1, 'Racing;Pretend Play': 1, 'Communication;Creativity': 1, 'Strategy;Creativity': 1}\n"
     ]
    }
   ],
   "source": [
    "## Total number of geners in whole application\n",
    "\n",
    "genres = {}\n",
    "for name in df['Genres'].unique():\n",
    "    ct = 0\n",
    "    for i in df['Genres']:\n",
    "        if(i == name):\n",
    "            ct += 1 \n",
    "    genres[name] = ct\n",
    "print(genres)\n",
    "    "
   ]
  },
  {
   "cell_type": "markdown",
   "id": "33abfd3e-a0aa-4d4c-872d-aa1bb49c61a7",
   "metadata": {},
   "source": [
    "## Description of columns--\n"
   ]
  },
  {
   "cell_type": "code",
   "execution_count": 55,
   "id": "2a391bfe-2e2e-4902-aa5f-0049af110f51",
   "metadata": {},
   "outputs": [
    {
     "data": {
      "text/plain": [
       "count    9360.000000\n",
       "mean        4.191838\n",
       "std         0.515263\n",
       "min         1.000000\n",
       "25%         4.000000\n",
       "50%         4.300000\n",
       "75%         4.500000\n",
       "max         5.000000\n",
       "Name: Rating, dtype: float64"
      ]
     },
     "execution_count": 55,
     "metadata": {},
     "output_type": "execute_result"
    }
   ],
   "source": [
    "df['Rating'].describe()"
   ]
  },
  {
   "cell_type": "code",
   "execution_count": 56,
   "id": "d150b8d8-0396-470a-80ef-32e3a1c16433",
   "metadata": {},
   "outputs": [
    {
     "data": {
      "text/plain": [
       "count         9360\n",
       "unique           6\n",
       "top       Everyone\n",
       "freq          7414\n",
       "Name: Content Rating, dtype: object"
      ]
     },
     "execution_count": 56,
     "metadata": {},
     "output_type": "execute_result"
    }
   ],
   "source": [
    "\n",
    "df['Content Rating'].describe()"
   ]
  },
  {
   "cell_type": "code",
   "execution_count": 58,
   "id": "53f51121-cc36-4d49-8cff-acb0a9b4ffc5",
   "metadata": {},
   "outputs": [
    {
     "data": {
      "text/plain": [
       "count      9360\n",
       "unique      115\n",
       "top       Tools\n",
       "freq        732\n",
       "Name: Genres, dtype: object"
      ]
     },
     "execution_count": 58,
     "metadata": {},
     "output_type": "execute_result"
    }
   ],
   "source": [
    "\n",
    "df['Genres'].describe()"
   ]
  },
  {
   "cell_type": "code",
   "execution_count": 59,
   "id": "f66ab9b8-fcb7-415d-84f9-7efcc2b41d81",
   "metadata": {},
   "outputs": [
    {
     "data": {
      "text/plain": [
       "count       9360\n",
       "unique        33\n",
       "top       FAMILY\n",
       "freq        1746\n",
       "Name: Category, dtype: object"
      ]
     },
     "execution_count": 59,
     "metadata": {},
     "output_type": "execute_result"
    }
   ],
   "source": [
    "df['Category'].describe()"
   ]
  },
  {
   "cell_type": "code",
   "execution_count": 61,
   "id": "7fc2def0-ed11-4870-96f0-01c34be01bf5",
   "metadata": {},
   "outputs": [
    {
     "data": {
      "text/plain": [
       "count     9360\n",
       "unique       2\n",
       "top       Free\n",
       "freq      8715\n",
       "Name: Type, dtype: object"
      ]
     },
     "execution_count": 61,
     "metadata": {},
     "output_type": "execute_result"
    }
   ],
   "source": [
    "df['Type'].describe()"
   ]
  },
  {
   "cell_type": "code",
   "execution_count": null,
   "id": "daa941fc-2a51-4b3b-ba1f-b5409111f078",
   "metadata": {},
   "outputs": [],
   "source": []
  }
 ],
 "metadata": {
  "kernelspec": {
   "display_name": "Python 3 (ipykernel)",
   "language": "python",
   "name": "python3"
  },
  "language_info": {
   "codemirror_mode": {
    "name": "ipython",
    "version": 3
   },
   "file_extension": ".py",
   "mimetype": "text/x-python",
   "name": "python",
   "nbconvert_exporter": "python",
   "pygments_lexer": "ipython3",
   "version": "3.10.7"
  }
 },
 "nbformat": 4,
 "nbformat_minor": 5
}
